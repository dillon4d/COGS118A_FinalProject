{
 "cells": [
  {
   "cell_type": "markdown",
   "metadata": {},
   "source": [
    "# Data Analysis Across All Datasets"
   ]
  },
  {
   "cell_type": "code",
   "execution_count": 1,
   "metadata": {},
   "outputs": [],
   "source": [
    "import pandas as pd\n",
    "import numpy as np\n",
    "import warnings\n",
    "warnings.simplefilter(action='ignore', category=FutureWarning)"
   ]
  },
  {
   "cell_type": "code",
   "execution_count": 2,
   "metadata": {},
   "outputs": [],
   "source": [
    "HD_test_df = pd.read_csv(\"~/Desktop/Winter_2020/Cogs_118A/FinalProject/Cogs118A_FinalProject/Data/HD_test_perf.csv\")\n",
    "HD_optimal_test_df = pd.read_csv(\"~/Desktop/Winter_2020/Cogs_118A/FinalProject/Cogs118A_FinalProject/Data/HD_optimal_test_perf.csv\")\n",
    "HD_optimal_train_df = pd.read_csv(\"~/Desktop/Winter_2020/Cogs_118A/FinalProject/Cogs118A_FinalProject/Data/HD_optimal_train_perf.csv\")\n",
    "\n",
    "DRUG_test_df = pd.read_csv(\"~/Desktop/Winter_2020/Cogs_118A/FinalProject/Cogs118A_FinalProject/Data/DRUG_test_perf.csv\")\n",
    "DRUG_optimal_test_df = pd.read_csv(\"~/Desktop/Winter_2020/Cogs_118A/FinalProject/Cogs118A_FinalProject/Data/DRUG_optimal_test_perf.csv\")\n",
    "DRUG_optimal_train_df = pd.read_csv(\"~/Desktop/Winter_2020/Cogs_118A/FinalProject/Cogs118A_FinalProject/Data/DRUG_optimal_train_perf.csv\")\n",
    "\n",
    "MUSH_test_df = pd.read_csv(\"~/Desktop/Winter_2020/Cogs_118A/FinalProject/Cogs118A_FinalProject/Data/MUSH_test_perf.csv\")\n",
    "MUSH_optimal_test_df = pd.read_csv(\"~/Desktop/Winter_2020/Cogs_118A/FinalProject/Cogs118A_FinalProject/Data/MUSH_optimal_test_perf.csv\")\n",
    "MUSH_optimal_train_df = pd.read_csv(\"~/Desktop/Winter_2020/Cogs_118A/FinalProject/Cogs118A_FinalProject/Data/MUSH_optimal_train_perf.csv\")"
   ]
  },
  {
   "cell_type": "markdown",
   "metadata": {},
   "source": [
    "## Average test performances in each dataset"
   ]
  },
  {
   "cell_type": "code",
   "execution_count": 3,
   "metadata": {},
   "outputs": [
    {
     "data": {
      "text/html": [
       "<div>\n",
       "<style scoped>\n",
       "    .dataframe tbody tr th:only-of-type {\n",
       "        vertical-align: middle;\n",
       "    }\n",
       "\n",
       "    .dataframe tbody tr th {\n",
       "        vertical-align: top;\n",
       "    }\n",
       "\n",
       "    .dataframe thead th {\n",
       "        text-align: right;\n",
       "    }\n",
       "</style>\n",
       "<table border=\"1\" class=\"dataframe\">\n",
       "  <thead>\n",
       "    <tr style=\"text-align: right;\">\n",
       "      <th></th>\n",
       "      <th>classifier</th>\n",
       "      <th>trial1_accuracy</th>\n",
       "      <th>trial1_precision</th>\n",
       "      <th>trial2_accuracy</th>\n",
       "      <th>trial2_precision</th>\n",
       "      <th>trial3_accuracy</th>\n",
       "      <th>trial3_precision</th>\n",
       "    </tr>\n",
       "  </thead>\n",
       "  <tbody>\n",
       "    <tr>\n",
       "      <td>0</td>\n",
       "      <td>KNN</td>\n",
       "      <td>0.786885</td>\n",
       "      <td>0.750000</td>\n",
       "      <td>0.770492</td>\n",
       "      <td>0.800000</td>\n",
       "      <td>0.868852</td>\n",
       "      <td>0.815789</td>\n",
       "    </tr>\n",
       "    <tr>\n",
       "      <td>1</td>\n",
       "      <td>RF</td>\n",
       "      <td>0.803279</td>\n",
       "      <td>0.814815</td>\n",
       "      <td>0.754098</td>\n",
       "      <td>0.783784</td>\n",
       "      <td>0.934426</td>\n",
       "      <td>0.966667</td>\n",
       "    </tr>\n",
       "    <tr>\n",
       "      <td>2</td>\n",
       "      <td>LR</td>\n",
       "      <td>0.803279</td>\n",
       "      <td>0.793103</td>\n",
       "      <td>0.819672</td>\n",
       "      <td>0.815789</td>\n",
       "      <td>0.918033</td>\n",
       "      <td>0.909091</td>\n",
       "    </tr>\n",
       "    <tr>\n",
       "      <td>3</td>\n",
       "      <td>DT</td>\n",
       "      <td>0.770492</td>\n",
       "      <td>0.758621</td>\n",
       "      <td>0.721311</td>\n",
       "      <td>0.743590</td>\n",
       "      <td>0.852459</td>\n",
       "      <td>0.878788</td>\n",
       "    </tr>\n",
       "  </tbody>\n",
       "</table>\n",
       "</div>"
      ],
      "text/plain": [
       "  classifier  trial1_accuracy  trial1_precision  trial2_accuracy  \\\n",
       "0        KNN         0.786885          0.750000         0.770492   \n",
       "1         RF         0.803279          0.814815         0.754098   \n",
       "2         LR         0.803279          0.793103         0.819672   \n",
       "3         DT         0.770492          0.758621         0.721311   \n",
       "\n",
       "   trial2_precision  trial3_accuracy  trial3_precision  \n",
       "0          0.800000         0.868852          0.815789  \n",
       "1          0.783784         0.934426          0.966667  \n",
       "2          0.815789         0.918033          0.909091  \n",
       "3          0.743590         0.852459          0.878788  "
      ]
     },
     "execution_count": 3,
     "metadata": {},
     "output_type": "execute_result"
    }
   ],
   "source": [
    "HD_test_df.head()"
   ]
  },
  {
   "cell_type": "code",
   "execution_count": 4,
   "metadata": {},
   "outputs": [
    {
     "data": {
      "text/html": [
       "<div>\n",
       "<style scoped>\n",
       "    .dataframe tbody tr th:only-of-type {\n",
       "        vertical-align: middle;\n",
       "    }\n",
       "\n",
       "    .dataframe tbody tr th {\n",
       "        vertical-align: top;\n",
       "    }\n",
       "\n",
       "    .dataframe thead th {\n",
       "        text-align: right;\n",
       "    }\n",
       "</style>\n",
       "<table border=\"1\" class=\"dataframe\">\n",
       "  <thead>\n",
       "    <tr style=\"text-align: right;\">\n",
       "      <th></th>\n",
       "      <th>classifier</th>\n",
       "      <th>trial1_accuracy</th>\n",
       "      <th>trial1_precision</th>\n",
       "      <th>trial2_accuracy</th>\n",
       "      <th>trial2_precision</th>\n",
       "      <th>trial3_accuracy</th>\n",
       "      <th>trial3_precision</th>\n",
       "    </tr>\n",
       "  </thead>\n",
       "  <tbody>\n",
       "    <tr>\n",
       "      <td>0</td>\n",
       "      <td>KNN</td>\n",
       "      <td>0.795756</td>\n",
       "      <td>0.875000</td>\n",
       "      <td>0.814324</td>\n",
       "      <td>0.833977</td>\n",
       "      <td>0.793103</td>\n",
       "      <td>0.861004</td>\n",
       "    </tr>\n",
       "    <tr>\n",
       "      <td>1</td>\n",
       "      <td>RF</td>\n",
       "      <td>0.801061</td>\n",
       "      <td>0.877470</td>\n",
       "      <td>0.795756</td>\n",
       "      <td>0.826772</td>\n",
       "      <td>0.777188</td>\n",
       "      <td>0.832090</td>\n",
       "    </tr>\n",
       "    <tr>\n",
       "      <td>2</td>\n",
       "      <td>LR</td>\n",
       "      <td>0.803714</td>\n",
       "      <td>0.859316</td>\n",
       "      <td>0.816976</td>\n",
       "      <td>0.834615</td>\n",
       "      <td>0.811671</td>\n",
       "      <td>0.856618</td>\n",
       "    </tr>\n",
       "    <tr>\n",
       "      <td>3</td>\n",
       "      <td>DT</td>\n",
       "      <td>0.774536</td>\n",
       "      <td>0.867769</td>\n",
       "      <td>0.782493</td>\n",
       "      <td>0.823293</td>\n",
       "      <td>0.763926</td>\n",
       "      <td>0.860656</td>\n",
       "    </tr>\n",
       "  </tbody>\n",
       "</table>\n",
       "</div>"
      ],
      "text/plain": [
       "  classifier  trial1_accuracy  trial1_precision  trial2_accuracy  \\\n",
       "0        KNN         0.795756          0.875000         0.814324   \n",
       "1         RF         0.801061          0.877470         0.795756   \n",
       "2         LR         0.803714          0.859316         0.816976   \n",
       "3         DT         0.774536          0.867769         0.782493   \n",
       "\n",
       "   trial2_precision  trial3_accuracy  trial3_precision  \n",
       "0          0.833977         0.793103          0.861004  \n",
       "1          0.826772         0.777188          0.832090  \n",
       "2          0.834615         0.811671          0.856618  \n",
       "3          0.823293         0.763926          0.860656  "
      ]
     },
     "execution_count": 4,
     "metadata": {},
     "output_type": "execute_result"
    }
   ],
   "source": [
    "DRUG_test_df.head()"
   ]
  },
  {
   "cell_type": "code",
   "execution_count": 5,
   "metadata": {},
   "outputs": [
    {
     "data": {
      "text/html": [
       "<div>\n",
       "<style scoped>\n",
       "    .dataframe tbody tr th:only-of-type {\n",
       "        vertical-align: middle;\n",
       "    }\n",
       "\n",
       "    .dataframe tbody tr th {\n",
       "        vertical-align: top;\n",
       "    }\n",
       "\n",
       "    .dataframe thead th {\n",
       "        text-align: right;\n",
       "    }\n",
       "</style>\n",
       "<table border=\"1\" class=\"dataframe\">\n",
       "  <thead>\n",
       "    <tr style=\"text-align: right;\">\n",
       "      <th></th>\n",
       "      <th>classifier</th>\n",
       "      <th>trial1_accuracy</th>\n",
       "      <th>trial1_precision</th>\n",
       "      <th>trial2_accuracy</th>\n",
       "      <th>trial2_precision</th>\n",
       "      <th>trial3_accuracy</th>\n",
       "      <th>trial3_precision</th>\n",
       "    </tr>\n",
       "  </thead>\n",
       "  <tbody>\n",
       "    <tr>\n",
       "      <td>0</td>\n",
       "      <td>KNN</td>\n",
       "      <td>1.000000</td>\n",
       "      <td>1.000000</td>\n",
       "      <td>1.000000</td>\n",
       "      <td>1.000000</td>\n",
       "      <td>1.000000</td>\n",
       "      <td>1.000000</td>\n",
       "    </tr>\n",
       "    <tr>\n",
       "      <td>1</td>\n",
       "      <td>RF</td>\n",
       "      <td>1.000000</td>\n",
       "      <td>1.000000</td>\n",
       "      <td>1.000000</td>\n",
       "      <td>1.000000</td>\n",
       "      <td>1.000000</td>\n",
       "      <td>1.000000</td>\n",
       "    </tr>\n",
       "    <tr>\n",
       "      <td>2</td>\n",
       "      <td>LR</td>\n",
       "      <td>0.971077</td>\n",
       "      <td>0.971975</td>\n",
       "      <td>0.967385</td>\n",
       "      <td>0.968354</td>\n",
       "      <td>0.959385</td>\n",
       "      <td>0.952941</td>\n",
       "    </tr>\n",
       "    <tr>\n",
       "      <td>3</td>\n",
       "      <td>DT</td>\n",
       "      <td>1.000000</td>\n",
       "      <td>1.000000</td>\n",
       "      <td>1.000000</td>\n",
       "      <td>1.000000</td>\n",
       "      <td>1.000000</td>\n",
       "      <td>1.000000</td>\n",
       "    </tr>\n",
       "  </tbody>\n",
       "</table>\n",
       "</div>"
      ],
      "text/plain": [
       "  classifier  trial1_accuracy  trial1_precision  trial2_accuracy  \\\n",
       "0        KNN         1.000000          1.000000         1.000000   \n",
       "1         RF         1.000000          1.000000         1.000000   \n",
       "2         LR         0.971077          0.971975         0.967385   \n",
       "3         DT         1.000000          1.000000         1.000000   \n",
       "\n",
       "   trial2_precision  trial3_accuracy  trial3_precision  \n",
       "0          1.000000         1.000000          1.000000  \n",
       "1          1.000000         1.000000          1.000000  \n",
       "2          0.968354         0.959385          0.952941  \n",
       "3          1.000000         1.000000          1.000000  "
      ]
     },
     "execution_count": 5,
     "metadata": {},
     "output_type": "execute_result"
    }
   ],
   "source": [
    "MUSH_test_df.head()"
   ]
  },
  {
   "cell_type": "markdown",
   "metadata": {},
   "source": [
    "## Average train performances with optimal parameters in each dataset"
   ]
  },
  {
   "cell_type": "code",
   "execution_count": 6,
   "metadata": {},
   "outputs": [
    {
     "data": {
      "text/html": [
       "<div>\n",
       "<style scoped>\n",
       "    .dataframe tbody tr th:only-of-type {\n",
       "        vertical-align: middle;\n",
       "    }\n",
       "\n",
       "    .dataframe tbody tr th {\n",
       "        vertical-align: top;\n",
       "    }\n",
       "\n",
       "    .dataframe thead th {\n",
       "        text-align: right;\n",
       "    }\n",
       "</style>\n",
       "<table border=\"1\" class=\"dataframe\">\n",
       "  <thead>\n",
       "    <tr style=\"text-align: right;\">\n",
       "      <th></th>\n",
       "      <th>classifier</th>\n",
       "      <th>trial1_accuracy</th>\n",
       "      <th>trial1_precision</th>\n",
       "      <th>trial2_accuracy</th>\n",
       "      <th>trial2_precision</th>\n",
       "      <th>trial3_accuracy</th>\n",
       "      <th>trial3_precision</th>\n",
       "    </tr>\n",
       "  </thead>\n",
       "  <tbody>\n",
       "    <tr>\n",
       "      <td>0</td>\n",
       "      <td>KNN</td>\n",
       "      <td>0.826701</td>\n",
       "      <td>0.824675</td>\n",
       "      <td>0.826361</td>\n",
       "      <td>0.872180</td>\n",
       "      <td>0.789371</td>\n",
       "      <td>0.871212</td>\n",
       "    </tr>\n",
       "    <tr>\n",
       "      <td>1</td>\n",
       "      <td>RF</td>\n",
       "      <td>0.818367</td>\n",
       "      <td>1.000000</td>\n",
       "      <td>0.830527</td>\n",
       "      <td>1.000000</td>\n",
       "      <td>0.814371</td>\n",
       "      <td>1.000000</td>\n",
       "    </tr>\n",
       "    <tr>\n",
       "      <td>2</td>\n",
       "      <td>LR</td>\n",
       "      <td>0.830867</td>\n",
       "      <td>0.812903</td>\n",
       "      <td>0.805612</td>\n",
       "      <td>0.840278</td>\n",
       "      <td>0.814201</td>\n",
       "      <td>0.790850</td>\n",
       "    </tr>\n",
       "    <tr>\n",
       "      <td>3</td>\n",
       "      <td>DT</td>\n",
       "      <td>0.735544</td>\n",
       "      <td>0.744048</td>\n",
       "      <td>0.813946</td>\n",
       "      <td>0.969925</td>\n",
       "      <td>0.698469</td>\n",
       "      <td>0.879195</td>\n",
       "    </tr>\n",
       "  </tbody>\n",
       "</table>\n",
       "</div>"
      ],
      "text/plain": [
       "  classifier  trial1_accuracy  trial1_precision  trial2_accuracy  \\\n",
       "0        KNN         0.826701          0.824675         0.826361   \n",
       "1         RF         0.818367          1.000000         0.830527   \n",
       "2         LR         0.830867          0.812903         0.805612   \n",
       "3         DT         0.735544          0.744048         0.813946   \n",
       "\n",
       "   trial2_precision  trial3_accuracy  trial3_precision  \n",
       "0          0.872180         0.789371          0.871212  \n",
       "1          1.000000         0.814371          1.000000  \n",
       "2          0.840278         0.814201          0.790850  \n",
       "3          0.969925         0.698469          0.879195  "
      ]
     },
     "execution_count": 6,
     "metadata": {},
     "output_type": "execute_result"
    }
   ],
   "source": [
    "HD_optimal_train_df.head()"
   ]
  },
  {
   "cell_type": "code",
   "execution_count": 7,
   "metadata": {},
   "outputs": [
    {
     "data": {
      "text/html": [
       "<div>\n",
       "<style scoped>\n",
       "    .dataframe tbody tr th:only-of-type {\n",
       "        vertical-align: middle;\n",
       "    }\n",
       "\n",
       "    .dataframe tbody tr th {\n",
       "        vertical-align: top;\n",
       "    }\n",
       "\n",
       "    .dataframe thead th {\n",
       "        text-align: right;\n",
       "    }\n",
       "</style>\n",
       "<table border=\"1\" class=\"dataframe\">\n",
       "  <thead>\n",
       "    <tr style=\"text-align: right;\">\n",
       "      <th></th>\n",
       "      <th>classifier</th>\n",
       "      <th>trial1_accuracy</th>\n",
       "      <th>trial1_precision</th>\n",
       "      <th>trial2_accuracy</th>\n",
       "      <th>trial2_precision</th>\n",
       "      <th>trial3_accuracy</th>\n",
       "      <th>trial3_precision</th>\n",
       "    </tr>\n",
       "  </thead>\n",
       "  <tbody>\n",
       "    <tr>\n",
       "      <td>0</td>\n",
       "      <td>KNN</td>\n",
       "      <td>0.801045</td>\n",
       "      <td>0.857567</td>\n",
       "      <td>0.801058</td>\n",
       "      <td>0.851533</td>\n",
       "      <td>0.803718</td>\n",
       "      <td>1.000000</td>\n",
       "    </tr>\n",
       "    <tr>\n",
       "      <td>1</td>\n",
       "      <td>RF</td>\n",
       "      <td>0.810330</td>\n",
       "      <td>1.000000</td>\n",
       "      <td>0.803063</td>\n",
       "      <td>1.000000</td>\n",
       "      <td>0.807698</td>\n",
       "      <td>1.000000</td>\n",
       "    </tr>\n",
       "    <tr>\n",
       "      <td>2</td>\n",
       "      <td>LR</td>\n",
       "      <td>0.815621</td>\n",
       "      <td>0.855315</td>\n",
       "      <td>0.812992</td>\n",
       "      <td>0.860153</td>\n",
       "      <td>0.811681</td>\n",
       "      <td>0.855186</td>\n",
       "    </tr>\n",
       "    <tr>\n",
       "      <td>3</td>\n",
       "      <td>DT</td>\n",
       "      <td>0.786451</td>\n",
       "      <td>0.903418</td>\n",
       "      <td>0.693648</td>\n",
       "      <td>0.909357</td>\n",
       "      <td>0.687677</td>\n",
       "      <td>0.898356</td>\n",
       "    </tr>\n",
       "  </tbody>\n",
       "</table>\n",
       "</div>"
      ],
      "text/plain": [
       "  classifier  trial1_accuracy  trial1_precision  trial2_accuracy  \\\n",
       "0        KNN         0.801045          0.857567         0.801058   \n",
       "1         RF         0.810330          1.000000         0.803063   \n",
       "2         LR         0.815621          0.855315         0.812992   \n",
       "3         DT         0.786451          0.903418         0.693648   \n",
       "\n",
       "   trial2_precision  trial3_accuracy  trial3_precision  \n",
       "0          0.851533         0.803718          1.000000  \n",
       "1          1.000000         0.807698          1.000000  \n",
       "2          0.860153         0.811681          0.855186  \n",
       "3          0.909357         0.687677          0.898356  "
      ]
     },
     "execution_count": 7,
     "metadata": {},
     "output_type": "execute_result"
    }
   ],
   "source": [
    "DRUG_optimal_train_df.head()"
   ]
  },
  {
   "cell_type": "code",
   "execution_count": 8,
   "metadata": {},
   "outputs": [
    {
     "data": {
      "text/html": [
       "<div>\n",
       "<style scoped>\n",
       "    .dataframe tbody tr th:only-of-type {\n",
       "        vertical-align: middle;\n",
       "    }\n",
       "\n",
       "    .dataframe tbody tr th {\n",
       "        vertical-align: top;\n",
       "    }\n",
       "\n",
       "    .dataframe thead th {\n",
       "        text-align: right;\n",
       "    }\n",
       "</style>\n",
       "<table border=\"1\" class=\"dataframe\">\n",
       "  <thead>\n",
       "    <tr style=\"text-align: right;\">\n",
       "      <th></th>\n",
       "      <th>classifier</th>\n",
       "      <th>trial1_accuracy</th>\n",
       "      <th>trial1_precision</th>\n",
       "      <th>trial2_accuracy</th>\n",
       "      <th>trial2_precision</th>\n",
       "      <th>trial3_accuracy</th>\n",
       "      <th>trial3_precision</th>\n",
       "    </tr>\n",
       "  </thead>\n",
       "  <tbody>\n",
       "    <tr>\n",
       "      <td>0</td>\n",
       "      <td>KNN</td>\n",
       "      <td>0.998923</td>\n",
       "      <td>1.000000</td>\n",
       "      <td>0.999231</td>\n",
       "      <td>1.00000</td>\n",
       "      <td>0.998923</td>\n",
       "      <td>1.00000</td>\n",
       "    </tr>\n",
       "    <tr>\n",
       "      <td>1</td>\n",
       "      <td>RF</td>\n",
       "      <td>1.000000</td>\n",
       "      <td>1.000000</td>\n",
       "      <td>1.000000</td>\n",
       "      <td>1.00000</td>\n",
       "      <td>1.000000</td>\n",
       "      <td>1.00000</td>\n",
       "    </tr>\n",
       "    <tr>\n",
       "      <td>2</td>\n",
       "      <td>LR</td>\n",
       "      <td>0.961993</td>\n",
       "      <td>0.961367</td>\n",
       "      <td>0.967995</td>\n",
       "      <td>0.96829</td>\n",
       "      <td>0.964303</td>\n",
       "      <td>0.96308</td>\n",
       "    </tr>\n",
       "    <tr>\n",
       "      <td>3</td>\n",
       "      <td>DT</td>\n",
       "      <td>0.998308</td>\n",
       "      <td>1.000000</td>\n",
       "      <td>1.000000</td>\n",
       "      <td>1.00000</td>\n",
       "      <td>0.995692</td>\n",
       "      <td>1.00000</td>\n",
       "    </tr>\n",
       "  </tbody>\n",
       "</table>\n",
       "</div>"
      ],
      "text/plain": [
       "  classifier  trial1_accuracy  trial1_precision  trial2_accuracy  \\\n",
       "0        KNN         0.998923          1.000000         0.999231   \n",
       "1         RF         1.000000          1.000000         1.000000   \n",
       "2         LR         0.961993          0.961367         0.967995   \n",
       "3         DT         0.998308          1.000000         1.000000   \n",
       "\n",
       "   trial2_precision  trial3_accuracy  trial3_precision  \n",
       "0           1.00000         0.998923           1.00000  \n",
       "1           1.00000         1.000000           1.00000  \n",
       "2           0.96829         0.964303           0.96308  \n",
       "3           1.00000         0.995692           1.00000  "
      ]
     },
     "execution_count": 8,
     "metadata": {},
     "output_type": "execute_result"
    }
   ],
   "source": [
    "MUSH_optimal_train_df.head()"
   ]
  },
  {
   "cell_type": "markdown",
   "metadata": {},
   "source": [
    "## Average test performances with optimal parameters in each dataset"
   ]
  },
  {
   "cell_type": "code",
   "execution_count": 9,
   "metadata": {},
   "outputs": [
    {
     "data": {
      "text/html": [
       "<div>\n",
       "<style scoped>\n",
       "    .dataframe tbody tr th:only-of-type {\n",
       "        vertical-align: middle;\n",
       "    }\n",
       "\n",
       "    .dataframe tbody tr th {\n",
       "        vertical-align: top;\n",
       "    }\n",
       "\n",
       "    .dataframe thead th {\n",
       "        text-align: right;\n",
       "    }\n",
       "</style>\n",
       "<table border=\"1\" class=\"dataframe\">\n",
       "  <thead>\n",
       "    <tr style=\"text-align: right;\">\n",
       "      <th></th>\n",
       "      <th>classifier</th>\n",
       "      <th>trial1_accuracy</th>\n",
       "      <th>trial1_precision</th>\n",
       "      <th>trial2_accuracy</th>\n",
       "      <th>trial2_precision</th>\n",
       "      <th>trial3_accuracy</th>\n",
       "      <th>trial3_precision</th>\n",
       "    </tr>\n",
       "  </thead>\n",
       "  <tbody>\n",
       "    <tr>\n",
       "      <td>0</td>\n",
       "      <td>KNN</td>\n",
       "      <td>0.786885</td>\n",
       "      <td>0.766667</td>\n",
       "      <td>0.819672</td>\n",
       "      <td>0.875000</td>\n",
       "      <td>0.934426</td>\n",
       "      <td>0.937500</td>\n",
       "    </tr>\n",
       "    <tr>\n",
       "      <td>1</td>\n",
       "      <td>RF</td>\n",
       "      <td>0.819672</td>\n",
       "      <td>0.846154</td>\n",
       "      <td>0.754098</td>\n",
       "      <td>0.777778</td>\n",
       "      <td>0.934426</td>\n",
       "      <td>0.937500</td>\n",
       "    </tr>\n",
       "    <tr>\n",
       "      <td>2</td>\n",
       "      <td>LR</td>\n",
       "      <td>0.803279</td>\n",
       "      <td>0.814815</td>\n",
       "      <td>0.786885</td>\n",
       "      <td>0.805556</td>\n",
       "      <td>0.885246</td>\n",
       "      <td>0.857143</td>\n",
       "    </tr>\n",
       "    <tr>\n",
       "      <td>3</td>\n",
       "      <td>DT</td>\n",
       "      <td>0.754098</td>\n",
       "      <td>0.705882</td>\n",
       "      <td>0.704918</td>\n",
       "      <td>0.766667</td>\n",
       "      <td>0.819672</td>\n",
       "      <td>0.878788</td>\n",
       "    </tr>\n",
       "  </tbody>\n",
       "</table>\n",
       "</div>"
      ],
      "text/plain": [
       "  classifier  trial1_accuracy  trial1_precision  trial2_accuracy  \\\n",
       "0        KNN         0.786885          0.766667         0.819672   \n",
       "1         RF         0.819672          0.846154         0.754098   \n",
       "2         LR         0.803279          0.814815         0.786885   \n",
       "3         DT         0.754098          0.705882         0.704918   \n",
       "\n",
       "   trial2_precision  trial3_accuracy  trial3_precision  \n",
       "0          0.875000         0.934426          0.937500  \n",
       "1          0.777778         0.934426          0.937500  \n",
       "2          0.805556         0.885246          0.857143  \n",
       "3          0.766667         0.819672          0.878788  "
      ]
     },
     "execution_count": 9,
     "metadata": {},
     "output_type": "execute_result"
    }
   ],
   "source": [
    "HD_optimal_test_df.head()"
   ]
  },
  {
   "cell_type": "code",
   "execution_count": 10,
   "metadata": {},
   "outputs": [
    {
     "data": {
      "text/html": [
       "<div>\n",
       "<style scoped>\n",
       "    .dataframe tbody tr th:only-of-type {\n",
       "        vertical-align: middle;\n",
       "    }\n",
       "\n",
       "    .dataframe tbody tr th {\n",
       "        vertical-align: top;\n",
       "    }\n",
       "\n",
       "    .dataframe thead th {\n",
       "        text-align: right;\n",
       "    }\n",
       "</style>\n",
       "<table border=\"1\" class=\"dataframe\">\n",
       "  <thead>\n",
       "    <tr style=\"text-align: right;\">\n",
       "      <th></th>\n",
       "      <th>classifier</th>\n",
       "      <th>trial1_accuracy</th>\n",
       "      <th>trial1_precision</th>\n",
       "      <th>trial2_accuracy</th>\n",
       "      <th>trial2_precision</th>\n",
       "      <th>trial3_accuracy</th>\n",
       "      <th>trial3_precision</th>\n",
       "    </tr>\n",
       "  </thead>\n",
       "  <tbody>\n",
       "    <tr>\n",
       "      <td>0</td>\n",
       "      <td>KNN</td>\n",
       "      <td>0.777188</td>\n",
       "      <td>0.887097</td>\n",
       "      <td>0.827586</td>\n",
       "      <td>0.857143</td>\n",
       "      <td>0.785146</td>\n",
       "      <td>0.862205</td>\n",
       "    </tr>\n",
       "    <tr>\n",
       "      <td>1</td>\n",
       "      <td>RF</td>\n",
       "      <td>0.809019</td>\n",
       "      <td>0.884462</td>\n",
       "      <td>0.798408</td>\n",
       "      <td>0.827451</td>\n",
       "      <td>0.774536</td>\n",
       "      <td>0.828467</td>\n",
       "    </tr>\n",
       "    <tr>\n",
       "      <td>2</td>\n",
       "      <td>LR</td>\n",
       "      <td>0.801061</td>\n",
       "      <td>0.890688</td>\n",
       "      <td>0.822281</td>\n",
       "      <td>0.863636</td>\n",
       "      <td>0.803714</td>\n",
       "      <td>0.874510</td>\n",
       "    </tr>\n",
       "    <tr>\n",
       "      <td>3</td>\n",
       "      <td>DT</td>\n",
       "      <td>0.786451</td>\n",
       "      <td>0.928571</td>\n",
       "      <td>0.692308</td>\n",
       "      <td>0.904459</td>\n",
       "      <td>0.705570</td>\n",
       "      <td>0.947674</td>\n",
       "    </tr>\n",
       "  </tbody>\n",
       "</table>\n",
       "</div>"
      ],
      "text/plain": [
       "  classifier  trial1_accuracy  trial1_precision  trial2_accuracy  \\\n",
       "0        KNN         0.777188          0.887097         0.827586   \n",
       "1         RF         0.809019          0.884462         0.798408   \n",
       "2         LR         0.801061          0.890688         0.822281   \n",
       "3         DT         0.786451          0.928571         0.692308   \n",
       "\n",
       "   trial2_precision  trial3_accuracy  trial3_precision  \n",
       "0          0.857143         0.785146          0.862205  \n",
       "1          0.827451         0.774536          0.828467  \n",
       "2          0.863636         0.803714          0.874510  \n",
       "3          0.904459         0.705570          0.947674  "
      ]
     },
     "execution_count": 10,
     "metadata": {},
     "output_type": "execute_result"
    }
   ],
   "source": [
    "DRUG_optimal_test_df.head()"
   ]
  },
  {
   "cell_type": "code",
   "execution_count": 11,
   "metadata": {},
   "outputs": [
    {
     "data": {
      "text/html": [
       "<div>\n",
       "<style scoped>\n",
       "    .dataframe tbody tr th:only-of-type {\n",
       "        vertical-align: middle;\n",
       "    }\n",
       "\n",
       "    .dataframe tbody tr th {\n",
       "        vertical-align: top;\n",
       "    }\n",
       "\n",
       "    .dataframe thead th {\n",
       "        text-align: right;\n",
       "    }\n",
       "</style>\n",
       "<table border=\"1\" class=\"dataframe\">\n",
       "  <thead>\n",
       "    <tr style=\"text-align: right;\">\n",
       "      <th></th>\n",
       "      <th>classifier</th>\n",
       "      <th>trial1_accuracy</th>\n",
       "      <th>trial1_precision</th>\n",
       "      <th>trial2_accuracy</th>\n",
       "      <th>trial2_precision</th>\n",
       "      <th>trial3_accuracy</th>\n",
       "      <th>trial3_precision</th>\n",
       "    </tr>\n",
       "  </thead>\n",
       "  <tbody>\n",
       "    <tr>\n",
       "      <td>0</td>\n",
       "      <td>KNN</td>\n",
       "      <td>1.000000</td>\n",
       "      <td>1.000000</td>\n",
       "      <td>1.000000</td>\n",
       "      <td>1.000000</td>\n",
       "      <td>1.000000</td>\n",
       "      <td>1.00000</td>\n",
       "    </tr>\n",
       "    <tr>\n",
       "      <td>1</td>\n",
       "      <td>RF</td>\n",
       "      <td>1.000000</td>\n",
       "      <td>1.000000</td>\n",
       "      <td>1.000000</td>\n",
       "      <td>1.000000</td>\n",
       "      <td>1.000000</td>\n",
       "      <td>1.00000</td>\n",
       "    </tr>\n",
       "    <tr>\n",
       "      <td>2</td>\n",
       "      <td>LR</td>\n",
       "      <td>0.969846</td>\n",
       "      <td>0.971903</td>\n",
       "      <td>0.966769</td>\n",
       "      <td>0.968314</td>\n",
       "      <td>0.959385</td>\n",
       "      <td>0.95201</td>\n",
       "    </tr>\n",
       "    <tr>\n",
       "      <td>3</td>\n",
       "      <td>DT</td>\n",
       "      <td>1.000000</td>\n",
       "      <td>1.000000</td>\n",
       "      <td>1.000000</td>\n",
       "      <td>1.000000</td>\n",
       "      <td>0.992615</td>\n",
       "      <td>1.00000</td>\n",
       "    </tr>\n",
       "  </tbody>\n",
       "</table>\n",
       "</div>"
      ],
      "text/plain": [
       "  classifier  trial1_accuracy  trial1_precision  trial2_accuracy  \\\n",
       "0        KNN         1.000000          1.000000         1.000000   \n",
       "1         RF         1.000000          1.000000         1.000000   \n",
       "2         LR         0.969846          0.971903         0.966769   \n",
       "3         DT         1.000000          1.000000         1.000000   \n",
       "\n",
       "   trial2_precision  trial3_accuracy  trial3_precision  \n",
       "0          1.000000         1.000000           1.00000  \n",
       "1          1.000000         1.000000           1.00000  \n",
       "2          0.968314         0.959385           0.95201  \n",
       "3          1.000000         0.992615           1.00000  "
      ]
     },
     "execution_count": 11,
     "metadata": {},
     "output_type": "execute_result"
    }
   ],
   "source": [
    "MUSH_optimal_test_df.head()"
   ]
  },
  {
   "cell_type": "markdown",
   "metadata": {},
   "source": [
    "### Extract KNN accuracy and precision"
   ]
  },
  {
   "cell_type": "code",
   "execution_count": 12,
   "metadata": {},
   "outputs": [
    {
     "data": {
      "text/plain": [
       "array([[0.7868850000000001],\n",
       "       [0.770492],\n",
       "       [0.8688520000000001],\n",
       "       [0.795756],\n",
       "       [0.8143239999999999],\n",
       "       [0.793103],\n",
       "       [1.0],\n",
       "       [1.0],\n",
       "       [1.0]], dtype=object)"
      ]
     },
     "execution_count": 12,
     "metadata": {},
     "output_type": "execute_result"
    }
   ],
   "source": [
    "HD_knn_accu = HD_test_df.drop(['trial1_precision','trial2_precision','trial3_precision'],axis=1).loc[0]\n",
    "HD_knn_accu = pd.DataFrame({'Trial':HD_knn_accu.index, 'Accuracy':HD_knn_accu.values}).iloc[1:]\n",
    "DRUG_knn_accu = DRUG_test_df.drop(['trial1_precision','trial2_precision','trial3_precision'],axis=1).loc[0]\n",
    "DRUG_knn_accu = pd.DataFrame({'Trial':DRUG_knn_accu.index, 'Accuracy':DRUG_knn_accu.values}).iloc[1:]\n",
    "MUSH_knn_accu = MUSH_test_df.drop(['trial1_precision','trial2_precision','trial3_precision'],axis=1).loc[0]\n",
    "MUSH_knn_accu = pd.DataFrame({'Trial':MUSH_knn_accu.index, 'Accuracy':MUSH_knn_accu.values}).iloc[1:]\n",
    "all_knn_accu = pd.concat([HD_knn_accu, DRUG_knn_accu, MUSH_knn_accu], ignore_index=True)\n",
    "all_knn_accu = all_knn_accu.as_matrix(columns=all_knn_accu.columns[1:])\n",
    "all_knn_accu"
   ]
  },
  {
   "cell_type": "code",
   "execution_count": 13,
   "metadata": {},
   "outputs": [
    {
     "data": {
      "text/plain": [
       "array([[0.786885246],\n",
       "       [0.819672],\n",
       "       [0.934426],\n",
       "       [0.777188329],\n",
       "       [0.8275862070000001],\n",
       "       [0.785145889],\n",
       "       [1.0],\n",
       "       [1.0],\n",
       "       [1.0]], dtype=object)"
      ]
     },
     "execution_count": 13,
     "metadata": {},
     "output_type": "execute_result"
    }
   ],
   "source": [
    "HD_optimal_test_knn_accu = HD_optimal_test_df.drop(['trial1_precision','trial2_precision','trial3_precision'],axis=1).loc[0]\n",
    "HD_optimal_test_knn_accu = pd.DataFrame({'Trial':HD_optimal_test_knn_accu.index, 'precision':HD_optimal_test_knn_accu.values}).iloc[1:]\n",
    "DRUG_optimal_test_knn_accu = DRUG_optimal_test_df.drop(['trial1_precision','trial2_precision','trial3_precision'],axis=1).loc[0]\n",
    "DRUG_optimal_test_knn_accu = pd.DataFrame({'Trial':DRUG_optimal_test_knn_accu.index, 'precision':DRUG_optimal_test_knn_accu.values}).iloc[1:]\n",
    "MUSH_optimal_test_knn_accu = MUSH_optimal_test_df.drop(['trial1_precision','trial2_precision','trial3_precision'],axis=1).loc[0]\n",
    "MUSH_optimal_test_knn_accu = pd.DataFrame({'Trial':MUSH_optimal_test_knn_accu.index, 'precision':MUSH_optimal_test_knn_accu.values}).iloc[1:]\n",
    "all_optimal_test_knn_accu = pd.concat([HD_optimal_test_knn_accu, DRUG_optimal_test_knn_accu, MUSH_optimal_test_knn_accu],ignore_index=True)\n",
    "all_optimal_test_knn_accu = all_optimal_test_knn_accu.as_matrix(columns=all_optimal_test_knn_accu.columns[1:])\n",
    "all_optimal_test_knn_accu"
   ]
  },
  {
   "cell_type": "code",
   "execution_count": 14,
   "metadata": {},
   "outputs": [
    {
     "data": {
      "text/plain": [
       "array([[0.75],\n",
       "       [0.8],\n",
       "       [0.815789],\n",
       "       [0.875],\n",
       "       [0.8339770000000001],\n",
       "       [0.8610040000000001],\n",
       "       [1.0],\n",
       "       [1.0],\n",
       "       [1.0]], dtype=object)"
      ]
     },
     "execution_count": 14,
     "metadata": {},
     "output_type": "execute_result"
    }
   ],
   "source": [
    "HD_knn_prec = HD_test_df.drop(['trial1_accuracy','trial2_accuracy','trial3_accuracy'],axis=1).loc[0]\n",
    "HD_knn_prec = pd.DataFrame({'Trial':HD_knn_prec.index, 'precracy':HD_knn_prec.values}).iloc[1:]\n",
    "DRUG_knn_prec = DRUG_test_df.drop(['trial1_accuracy','trial2_accuracy','trial3_accuracy'],axis=1).loc[0]\n",
    "DRUG_knn_prec = pd.DataFrame({'Trial':DRUG_knn_prec.index, 'precracy':DRUG_knn_prec.values}).iloc[1:]\n",
    "MUSH_knn_prec = MUSH_test_df.drop(['trial1_accuracy','trial2_accuracy','trial3_accuracy'],axis=1).loc[0]\n",
    "MUSH_knn_prec = pd.DataFrame({'Trial':MUSH_knn_prec.index, 'precracy':MUSH_knn_prec.values}).iloc[1:]\n",
    "all_knn_prec = pd.concat([HD_knn_prec, DRUG_knn_prec, MUSH_knn_prec], ignore_index=True)\n",
    "all_knn_prec = all_knn_prec.as_matrix(columns=all_knn_prec.columns[1:])\n",
    "all_knn_prec"
   ]
  },
  {
   "cell_type": "code",
   "execution_count": 15,
   "metadata": {},
   "outputs": [
    {
     "data": {
      "text/plain": [
       "array([[0.766667],\n",
       "       [0.875],\n",
       "       [0.9375],\n",
       "       [0.8870967740000001],\n",
       "       [0.857142857],\n",
       "       [0.862204724],\n",
       "       [1.0],\n",
       "       [1.0],\n",
       "       [1.0]], dtype=object)"
      ]
     },
     "execution_count": 15,
     "metadata": {},
     "output_type": "execute_result"
    }
   ],
   "source": [
    "HD_optimal_test_knn_prec = HD_optimal_test_df.drop(['trial1_accuracy','trial2_accuracy','trial3_accuracy'],axis=1).loc[0]\n",
    "HD_optimal_test_knn_prec = pd.DataFrame({'Trial':HD_optimal_test_knn_prec.index, 'accuracy':HD_optimal_test_knn_prec.values}).iloc[1:]\n",
    "DRUG_optimal_test_knn_prec = DRUG_optimal_test_df.drop(['trial1_accuracy','trial2_accuracy','trial3_accuracy'],axis=1).loc[0]\n",
    "DRUG_optimal_test_knn_prec = pd.DataFrame({'Trial':DRUG_optimal_test_knn_prec.index, 'accuracy':DRUG_optimal_test_knn_prec.values}).iloc[1:]\n",
    "MUSH_optimal_test_knn_prec = MUSH_optimal_test_df.drop(['trial1_accuracy','trial2_accuracy','trial3_accuracy'],axis=1).loc[0]\n",
    "MUSH_optimal_test_knn_prec = pd.DataFrame({'Trial':MUSH_optimal_test_knn_prec.index, 'accuracy':MUSH_optimal_test_knn_prec.values}).iloc[1:]\n",
    "all_optimal_test_knn_prec = pd.concat([HD_optimal_test_knn_prec, DRUG_optimal_test_knn_prec, MUSH_optimal_test_knn_prec],ignore_index=True)\n",
    "all_optimal_test_knn_prec = all_optimal_test_knn_prec.as_matrix(columns=all_optimal_test_knn_prec.columns[1:])\n",
    "all_optimal_test_knn_prec"
   ]
  },
  {
   "cell_type": "code",
   "execution_count": 16,
   "metadata": {},
   "outputs": [
    {
     "data": {
      "text/plain": [
       "array([[0.826701],\n",
       "       [0.826361],\n",
       "       [0.789371],\n",
       "       [0.801045],\n",
       "       [0.801058],\n",
       "       [0.803718],\n",
       "       [0.998923],\n",
       "       [0.999231],\n",
       "       [0.998923]], dtype=object)"
      ]
     },
     "execution_count": 16,
     "metadata": {},
     "output_type": "execute_result"
    }
   ],
   "source": [
    "HD_optimal_train_knn_accu = HD_optimal_train_df.drop(['trial1_precision','trial2_precision','trial3_precision'],axis=1).loc[0]\n",
    "HD_optimal_train_knn_accu = pd.DataFrame({'Trial':HD_optimal_train_knn_accu.index, 'precision':HD_optimal_train_knn_accu.values}).iloc[1:]\n",
    "DRUG_optimal_train_knn_accu = DRUG_optimal_train_df.drop(['trial1_precision','trial2_precision','trial3_precision'],axis=1).loc[0]\n",
    "DRUG_optimal_train_knn_accu = pd.DataFrame({'Trial':DRUG_optimal_train_knn_accu.index, 'precision':DRUG_optimal_train_knn_accu.values}).iloc[1:]\n",
    "MUSH_optimal_train_knn_accu = MUSH_optimal_train_df.drop(['trial1_precision','trial2_precision','trial3_precision'],axis=1).loc[0]\n",
    "MUSH_optimal_train_knn_accu = pd.DataFrame({'Trial':MUSH_optimal_train_knn_accu.index, 'precision':MUSH_optimal_train_knn_accu.values}).iloc[1:]\n",
    "all_optimal_train_knn_accu = pd.concat([HD_optimal_train_knn_accu, DRUG_optimal_train_knn_accu, MUSH_optimal_train_knn_accu],ignore_index=True)\n",
    "all_optimal_train_knn_accu = all_optimal_train_knn_accu.as_matrix(columns=all_optimal_train_knn_accu.columns[1:])\n",
    "all_optimal_train_knn_accu"
   ]
  },
  {
   "cell_type": "code",
   "execution_count": 17,
   "metadata": {},
   "outputs": [
    {
     "data": {
      "text/plain": [
       "array([[0.824675],\n",
       "       [0.87218],\n",
       "       [0.8712120000000001],\n",
       "       [0.857567],\n",
       "       [0.851533],\n",
       "       [1.0],\n",
       "       [1.0],\n",
       "       [1.0],\n",
       "       [1.0]], dtype=object)"
      ]
     },
     "execution_count": 17,
     "metadata": {},
     "output_type": "execute_result"
    }
   ],
   "source": [
    "HD_optimal_train_knn_prec = HD_optimal_train_df.drop(['trial1_accuracy','trial2_accuracy','trial3_accuracy'],axis=1).loc[0]\n",
    "HD_optimal_train_knn_prec = pd.DataFrame({'Trial':HD_optimal_train_knn_prec.index, 'accuracy':HD_optimal_train_knn_prec.values}).iloc[1:]\n",
    "DRUG_optimal_train_knn_prec = DRUG_optimal_train_df.drop(['trial1_accuracy','trial2_accuracy','trial3_accuracy'],axis=1).loc[0]\n",
    "DRUG_optimal_train_knn_prec = pd.DataFrame({'Trial':DRUG_optimal_train_knn_prec.index, 'accuracy':DRUG_optimal_train_knn_prec.values}).iloc[1:]\n",
    "MUSH_optimal_train_knn_prec = MUSH_optimal_train_df.drop(['trial1_accuracy','trial2_accuracy','trial3_accuracy'],axis=1).loc[0]\n",
    "MUSH_optimal_train_knn_prec = pd.DataFrame({'Trial':MUSH_optimal_train_knn_prec.index, 'accuracy':MUSH_optimal_train_knn_prec.values}).iloc[1:]\n",
    "all_optimal_train_knn_prec = pd.concat([HD_optimal_train_knn_prec, DRUG_optimal_train_knn_prec, MUSH_optimal_train_knn_prec],ignore_index=True)\n",
    "all_optimal_train_knn_prec = all_optimal_train_knn_prec.as_matrix(columns=all_optimal_train_knn_prec.columns[1:])\n",
    "all_optimal_train_knn_prec"
   ]
  },
  {
   "cell_type": "markdown",
   "metadata": {},
   "source": [
    "### Extract RF accuracy and precision"
   ]
  },
  {
   "cell_type": "code",
   "execution_count": 18,
   "metadata": {},
   "outputs": [
    {
     "data": {
      "text/plain": [
       "array([[0.803279],\n",
       "       [0.7540979999999999],\n",
       "       [0.934426],\n",
       "       [0.8010609999999999],\n",
       "       [0.795756],\n",
       "       [0.777188],\n",
       "       [1.0],\n",
       "       [1.0],\n",
       "       [1.0]], dtype=object)"
      ]
     },
     "execution_count": 18,
     "metadata": {},
     "output_type": "execute_result"
    }
   ],
   "source": [
    "HD_RF_accu = HD_test_df.drop(['trial1_precision','trial2_precision','trial3_precision'],axis=1).loc[1]\n",
    "HD_RF_accu = pd.DataFrame({'Trial':HD_RF_accu.index, 'Accuracy':HD_RF_accu.values}).iloc[1:]\n",
    "DRUG_RF_accu = DRUG_test_df.drop(['trial1_precision','trial2_precision','trial3_precision'],axis=1).loc[1]\n",
    "DRUG_RF_accu = pd.DataFrame({'Trial':DRUG_RF_accu.index, 'Accuracy':DRUG_RF_accu.values}).iloc[1:]\n",
    "MUSH_RF_accu = MUSH_test_df.drop(['trial1_precision','trial2_precision','trial3_precision'],axis=1).loc[1]\n",
    "MUSH_RF_accu = pd.DataFrame({'Trial':MUSH_RF_accu.index, 'Accuracy':MUSH_RF_accu.values}).iloc[1:]\n",
    "all_RF_accu = pd.concat([HD_RF_accu, DRUG_RF_accu, MUSH_RF_accu], ignore_index=True)\n",
    "all_RF_accu = all_RF_accu.as_matrix(columns=all_RF_accu.columns[1:])\n",
    "all_RF_accu"
   ]
  },
  {
   "cell_type": "code",
   "execution_count": 19,
   "metadata": {},
   "outputs": [
    {
     "data": {
      "text/plain": [
       "array([[0.8196721309999999],\n",
       "       [0.7540979999999999],\n",
       "       [0.934426],\n",
       "       [0.8090185679999999],\n",
       "       [0.798408488],\n",
       "       [0.7745358090000001],\n",
       "       [1.0],\n",
       "       [1.0],\n",
       "       [1.0]], dtype=object)"
      ]
     },
     "execution_count": 19,
     "metadata": {},
     "output_type": "execute_result"
    }
   ],
   "source": [
    "HD_optimal_test_RF_accu = HD_optimal_test_df.drop(['trial1_precision','trial2_precision','trial3_precision'],axis=1).loc[1]\n",
    "HD_optimal_test_RF_accu = pd.DataFrame({'Trial':HD_optimal_test_RF_accu.index, 'precision':HD_optimal_test_RF_accu.values}).iloc[1:]\n",
    "DRUG_optimal_test_RF_accu = DRUG_optimal_test_df.drop(['trial1_precision','trial2_precision','trial3_precision'],axis=1).loc[1]\n",
    "DRUG_optimal_test_RF_accu = pd.DataFrame({'Trial':DRUG_optimal_test_RF_accu.index, 'precision':DRUG_optimal_test_RF_accu.values}).iloc[1:]\n",
    "MUSH_optimal_test_RF_accu = MUSH_optimal_test_df.drop(['trial1_precision','trial2_precision','trial3_precision'],axis=1).loc[1]\n",
    "MUSH_optimal_test_RF_accu = pd.DataFrame({'Trial':MUSH_optimal_test_RF_accu.index, 'precision':MUSH_optimal_test_RF_accu.values}).iloc[1:]\n",
    "all_optimal_test_RF_accu = pd.concat([HD_optimal_test_RF_accu, DRUG_optimal_test_RF_accu, MUSH_optimal_test_RF_accu],ignore_index=True)\n",
    "all_optimal_test_RF_accu = all_optimal_test_RF_accu.as_matrix(columns=all_optimal_test_RF_accu.columns[1:])\n",
    "all_optimal_test_RF_accu"
   ]
  },
  {
   "cell_type": "code",
   "execution_count": 20,
   "metadata": {},
   "outputs": [
    {
     "data": {
      "text/plain": [
       "array([[0.814815],\n",
       "       [0.783784],\n",
       "       [0.966667],\n",
       "       [0.8774700000000001],\n",
       "       [0.826772],\n",
       "       [0.83209],\n",
       "       [1.0],\n",
       "       [1.0],\n",
       "       [1.0]], dtype=object)"
      ]
     },
     "execution_count": 20,
     "metadata": {},
     "output_type": "execute_result"
    }
   ],
   "source": [
    "HD_RF_prec = HD_test_df.drop(['trial1_accuracy','trial2_accuracy','trial3_accuracy'],axis=1).loc[1]\n",
    "HD_RF_prec = pd.DataFrame({'Trial':HD_RF_prec.index, 'precracy':HD_RF_prec.values}).iloc[1:]\n",
    "DRUG_RF_prec = DRUG_test_df.drop(['trial1_accuracy','trial2_accuracy','trial3_accuracy'],axis=1).loc[1]\n",
    "DRUG_RF_prec = pd.DataFrame({'Trial':DRUG_RF_prec.index, 'precracy':DRUG_RF_prec.values}).iloc[1:]\n",
    "MUSH_RF_prec = MUSH_test_df.drop(['trial1_accuracy','trial2_accuracy','trial3_accuracy'],axis=1).loc[1]\n",
    "MUSH_RF_prec = pd.DataFrame({'Trial':MUSH_RF_prec.index, 'precracy':MUSH_RF_prec.values}).iloc[1:]\n",
    "all_RF_prec = pd.concat([HD_RF_prec, DRUG_RF_prec, MUSH_RF_prec], ignore_index=True)\n",
    "all_RF_prec = all_RF_prec.as_matrix(columns=all_RF_prec.columns[1:])\n",
    "all_RF_prec"
   ]
  },
  {
   "cell_type": "code",
   "execution_count": 21,
   "metadata": {},
   "outputs": [
    {
     "data": {
      "text/plain": [
       "array([[0.8461540000000001],\n",
       "       [0.777778],\n",
       "       [0.9375],\n",
       "       [0.8844621509999999],\n",
       "       [0.82745098],\n",
       "       [0.828467153],\n",
       "       [1.0],\n",
       "       [1.0],\n",
       "       [1.0]], dtype=object)"
      ]
     },
     "execution_count": 21,
     "metadata": {},
     "output_type": "execute_result"
    }
   ],
   "source": [
    "HD_optimal_test_RF_prec = HD_optimal_test_df.drop(['trial1_accuracy','trial2_accuracy','trial3_accuracy'],axis=1).loc[1]\n",
    "HD_optimal_test_RF_prec = pd.DataFrame({'Trial':HD_optimal_test_RF_prec.index, 'accuracy':HD_optimal_test_RF_prec.values}).iloc[1:]\n",
    "DRUG_optimal_test_RF_prec = DRUG_optimal_test_df.drop(['trial1_accuracy','trial2_accuracy','trial3_accuracy'],axis=1).loc[1]\n",
    "DRUG_optimal_test_RF_prec = pd.DataFrame({'Trial':DRUG_optimal_test_RF_prec.index, 'accuracy':DRUG_optimal_test_RF_prec.values}).iloc[1:]\n",
    "MUSH_optimal_test_RF_prec = MUSH_optimal_test_df.drop(['trial1_accuracy','trial2_accuracy','trial3_accuracy'],axis=1).loc[1]\n",
    "MUSH_optimal_test_RF_prec = pd.DataFrame({'Trial':MUSH_optimal_test_RF_prec.index, 'accuracy':MUSH_optimal_test_RF_prec.values}).iloc[1:]\n",
    "all_optimal_test_RF_prec = pd.concat([HD_optimal_test_RF_prec, DRUG_optimal_test_RF_prec, MUSH_optimal_test_RF_prec],ignore_index=True)\n",
    "all_optimal_test_RF_prec = all_optimal_test_RF_prec.as_matrix(columns=all_optimal_test_RF_prec.columns[1:])\n",
    "all_optimal_test_RF_prec"
   ]
  },
  {
   "cell_type": "code",
   "execution_count": 22,
   "metadata": {},
   "outputs": [
    {
     "data": {
      "text/plain": [
       "array([[0.818367],\n",
       "       [0.830527],\n",
       "       [0.814371],\n",
       "       [0.81033],\n",
       "       [0.803063],\n",
       "       [0.8076979999999999],\n",
       "       [1.0],\n",
       "       [1.0],\n",
       "       [1.0]], dtype=object)"
      ]
     },
     "execution_count": 22,
     "metadata": {},
     "output_type": "execute_result"
    }
   ],
   "source": [
    "HD_optimal_train_RF_accu = HD_optimal_train_df.drop(['trial1_precision','trial2_precision','trial3_precision'],axis=1).loc[1]\n",
    "HD_optimal_train_RF_accu = pd.DataFrame({'Trial':HD_optimal_train_RF_accu.index, 'precision':HD_optimal_train_RF_accu.values}).iloc[1:]\n",
    "DRUG_optimal_train_RF_accu = DRUG_optimal_train_df.drop(['trial1_precision','trial2_precision','trial3_precision'],axis=1).loc[1]\n",
    "DRUG_optimal_train_RF_accu = pd.DataFrame({'Trial':DRUG_optimal_train_RF_accu.index, 'precision':DRUG_optimal_train_RF_accu.values}).iloc[1:]\n",
    "MUSH_optimal_train_RF_accu = MUSH_optimal_train_df.drop(['trial1_precision','trial2_precision','trial3_precision'],axis=1).loc[1]\n",
    "MUSH_optimal_train_RF_accu = pd.DataFrame({'Trial':MUSH_optimal_train_RF_accu.index, 'precision':MUSH_optimal_train_RF_accu.values}).iloc[1:]\n",
    "all_optimal_train_RF_accu = pd.concat([HD_optimal_train_RF_accu, DRUG_optimal_train_RF_accu, MUSH_optimal_train_RF_accu],ignore_index=True)\n",
    "all_optimal_train_RF_accu = all_optimal_train_RF_accu.as_matrix(columns=all_optimal_train_RF_accu.columns[1:])\n",
    "all_optimal_train_RF_accu"
   ]
  },
  {
   "cell_type": "code",
   "execution_count": 23,
   "metadata": {},
   "outputs": [
    {
     "data": {
      "text/plain": [
       "array([[1.0],\n",
       "       [1.0],\n",
       "       [1.0],\n",
       "       [1.0],\n",
       "       [1.0],\n",
       "       [1.0],\n",
       "       [1.0],\n",
       "       [1.0],\n",
       "       [1.0]], dtype=object)"
      ]
     },
     "execution_count": 23,
     "metadata": {},
     "output_type": "execute_result"
    }
   ],
   "source": [
    "HD_optimal_train_RF_prec = HD_optimal_train_df.drop(['trial1_accuracy','trial2_accuracy','trial3_accuracy'],axis=1).loc[1]\n",
    "HD_optimal_train_RF_prec = pd.DataFrame({'Trial':HD_optimal_train_RF_prec.index, 'accuracy':HD_optimal_train_RF_prec.values}).iloc[1:]\n",
    "DRUG_optimal_train_RF_prec = DRUG_optimal_train_df.drop(['trial1_accuracy','trial2_accuracy','trial3_accuracy'],axis=1).loc[1]\n",
    "DRUG_optimal_train_RF_prec = pd.DataFrame({'Trial':DRUG_optimal_train_RF_prec.index, 'accuracy':DRUG_optimal_train_RF_prec.values}).iloc[1:]\n",
    "MUSH_optimal_train_RF_prec = MUSH_optimal_train_df.drop(['trial1_accuracy','trial2_accuracy','trial3_accuracy'],axis=1).loc[1]\n",
    "MUSH_optimal_train_RF_prec = pd.DataFrame({'Trial':MUSH_optimal_train_RF_prec.index, 'accuracy':MUSH_optimal_train_RF_prec.values}).iloc[1:]\n",
    "all_optimal_train_RF_prec = pd.concat([HD_optimal_train_RF_prec, DRUG_optimal_train_RF_prec, MUSH_optimal_train_RF_prec],ignore_index=True)\n",
    "all_optimal_train_RF_prec = all_optimal_train_RF_prec.as_matrix(columns=all_optimal_train_RF_prec.columns[1:])\n",
    "all_optimal_train_RF_prec"
   ]
  },
  {
   "cell_type": "markdown",
   "metadata": {},
   "source": [
    "### Extract LR accuracy and precision"
   ]
  },
  {
   "cell_type": "code",
   "execution_count": 24,
   "metadata": {},
   "outputs": [
    {
     "data": {
      "text/plain": [
       "array([[0.803279],\n",
       "       [0.819672],\n",
       "       [0.918033],\n",
       "       [0.803714],\n",
       "       [0.816976],\n",
       "       [0.811671],\n",
       "       [0.9710770000000001],\n",
       "       [0.967385],\n",
       "       [0.959385]], dtype=object)"
      ]
     },
     "execution_count": 24,
     "metadata": {},
     "output_type": "execute_result"
    }
   ],
   "source": [
    "HD_LR_accu = HD_test_df.drop(['trial1_precision','trial2_precision','trial3_precision'],axis=1).loc[2]\n",
    "HD_LR_accu = pd.DataFrame({'Trial':HD_LR_accu.index, 'Accuracy':HD_LR_accu.values}).iloc[1:]\n",
    "DRUG_LR_accu = DRUG_test_df.drop(['trial1_precision','trial2_precision','trial3_precision'],axis=1).loc[2]\n",
    "DRUG_LR_accu = pd.DataFrame({'Trial':DRUG_LR_accu.index, 'Accuracy':DRUG_LR_accu.values}).iloc[1:]\n",
    "MUSH_LR_accu = MUSH_test_df.drop(['trial1_precision','trial2_precision','trial3_precision'],axis=1).loc[2]\n",
    "MUSH_LR_accu = pd.DataFrame({'Trial':MUSH_LR_accu.index, 'Accuracy':MUSH_LR_accu.values}).iloc[1:]\n",
    "all_LR_accu = pd.concat([HD_LR_accu, DRUG_LR_accu, MUSH_LR_accu], ignore_index=True)\n",
    "all_LR_accu = all_LR_accu.as_matrix(columns=all_LR_accu.columns[1:])\n",
    "all_LR_accu"
   ]
  },
  {
   "cell_type": "code",
   "execution_count": 25,
   "metadata": {},
   "outputs": [
    {
     "data": {
      "text/plain": [
       "array([[0.8032786890000001],\n",
       "       [0.7868850000000001],\n",
       "       [0.8852459999999999],\n",
       "       [0.801061008],\n",
       "       [0.822281167],\n",
       "       [0.803713528],\n",
       "       [0.9698459999999999],\n",
       "       [0.9667690000000001],\n",
       "       [0.959385]], dtype=object)"
      ]
     },
     "execution_count": 25,
     "metadata": {},
     "output_type": "execute_result"
    }
   ],
   "source": [
    "HD_optimal_test_LR_accu = HD_optimal_test_df.drop(['trial1_precision','trial2_precision','trial3_precision'],axis=1).loc[2]\n",
    "HD_optimal_test_LR_accu = pd.DataFrame({'Trial':HD_optimal_test_LR_accu.index, 'precision':HD_optimal_test_LR_accu.values}).iloc[1:]\n",
    "DRUG_optimal_test_LR_accu = DRUG_optimal_test_df.drop(['trial1_precision','trial2_precision','trial3_precision'],axis=1).loc[2]\n",
    "DRUG_optimal_test_LR_accu = pd.DataFrame({'Trial':DRUG_optimal_test_LR_accu.index, 'precision':DRUG_optimal_test_LR_accu.values}).iloc[1:]\n",
    "MUSH_optimal_test_LR_accu = MUSH_optimal_test_df.drop(['trial1_precision','trial2_precision','trial3_precision'],axis=1).loc[2]\n",
    "MUSH_optimal_test_LR_accu = pd.DataFrame({'Trial':MUSH_optimal_test_LR_accu.index, 'precision':MUSH_optimal_test_LR_accu.values}).iloc[1:]\n",
    "all_optimal_test_LR_accu = pd.concat([HD_optimal_test_LR_accu, DRUG_optimal_test_LR_accu, MUSH_optimal_test_LR_accu],ignore_index=True)\n",
    "all_optimal_test_LR_accu = all_optimal_test_LR_accu.as_matrix(columns=all_optimal_test_LR_accu.columns[1:])\n",
    "all_optimal_test_LR_accu"
   ]
  },
  {
   "cell_type": "code",
   "execution_count": 26,
   "metadata": {},
   "outputs": [
    {
     "data": {
      "text/plain": [
       "array([[0.793103],\n",
       "       [0.815789],\n",
       "       [0.909091],\n",
       "       [0.859316],\n",
       "       [0.834615],\n",
       "       [0.856618],\n",
       "       [0.971975],\n",
       "       [0.968354],\n",
       "       [0.952941]], dtype=object)"
      ]
     },
     "execution_count": 26,
     "metadata": {},
     "output_type": "execute_result"
    }
   ],
   "source": [
    "HD_LR_prec = HD_test_df.drop(['trial1_accuracy','trial2_accuracy','trial3_accuracy'],axis=1).loc[2]\n",
    "HD_LR_prec = pd.DataFrame({'Trial':HD_LR_prec.index, 'precracy':HD_LR_prec.values}).iloc[1:]\n",
    "DRUG_LR_prec = DRUG_test_df.drop(['trial1_accuracy','trial2_accuracy','trial3_accuracy'],axis=1).loc[2]\n",
    "DRUG_LR_prec = pd.DataFrame({'Trial':DRUG_LR_prec.index, 'precracy':DRUG_LR_prec.values}).iloc[1:]\n",
    "MUSH_LR_prec = MUSH_test_df.drop(['trial1_accuracy','trial2_accuracy','trial3_accuracy'],axis=1).loc[2]\n",
    "MUSH_LR_prec = pd.DataFrame({'Trial':MUSH_LR_prec.index, 'precracy':MUSH_LR_prec.values}).iloc[1:]\n",
    "all_LR_prec = pd.concat([HD_LR_prec, DRUG_LR_prec, MUSH_LR_prec], ignore_index=True)\n",
    "all_LR_prec = all_LR_prec.as_matrix(columns=all_LR_prec.columns[1:])\n",
    "all_LR_prec"
   ]
  },
  {
   "cell_type": "code",
   "execution_count": 27,
   "metadata": {},
   "outputs": [
    {
     "data": {
      "text/plain": [
       "array([[0.814815],\n",
       "       [0.805556],\n",
       "       [0.857143],\n",
       "       [0.890688259],\n",
       "       [0.8636363640000001],\n",
       "       [0.8745098040000001],\n",
       "       [0.9719030000000001],\n",
       "       [0.9683139999999999],\n",
       "       [0.95201]], dtype=object)"
      ]
     },
     "execution_count": 27,
     "metadata": {},
     "output_type": "execute_result"
    }
   ],
   "source": [
    "HD_optimal_test_LR_prec = HD_optimal_test_df.drop(['trial1_accuracy','trial2_accuracy','trial3_accuracy'],axis=1).loc[2]\n",
    "HD_optimal_test_LR_prec = pd.DataFrame({'Trial':HD_optimal_test_LR_prec.index, 'accuracy':HD_optimal_test_LR_prec.values}).iloc[1:]\n",
    "DRUG_optimal_test_LR_prec = DRUG_optimal_test_df.drop(['trial1_accuracy','trial2_accuracy','trial3_accuracy'],axis=1).loc[2]\n",
    "DRUG_optimal_test_LR_prec = pd.DataFrame({'Trial':DRUG_optimal_test_LR_prec.index, 'accuracy':DRUG_optimal_test_LR_prec.values}).iloc[1:]\n",
    "MUSH_optimal_test_LR_prec = MUSH_optimal_test_df.drop(['trial1_accuracy','trial2_accuracy','trial3_accuracy'],axis=1).loc[2]\n",
    "MUSH_optimal_test_LR_prec = pd.DataFrame({'Trial':MUSH_optimal_test_LR_prec.index, 'accuracy':MUSH_optimal_test_LR_prec.values}).iloc[1:]\n",
    "all_optimal_test_LR_prec = pd.concat([HD_optimal_test_LR_prec, DRUG_optimal_test_LR_prec, MUSH_optimal_test_LR_prec],ignore_index=True)\n",
    "all_optimal_test_LR_prec = all_optimal_test_LR_prec.as_matrix(columns=all_optimal_test_LR_prec.columns[1:])\n",
    "all_optimal_test_LR_prec"
   ]
  },
  {
   "cell_type": "code",
   "execution_count": 28,
   "metadata": {},
   "outputs": [
    {
     "data": {
      "text/plain": [
       "array([[0.830867],\n",
       "       [0.805612],\n",
       "       [0.8142010000000001],\n",
       "       [0.815621],\n",
       "       [0.812992],\n",
       "       [0.811681],\n",
       "       [0.961993],\n",
       "       [0.967995],\n",
       "       [0.964303]], dtype=object)"
      ]
     },
     "execution_count": 28,
     "metadata": {},
     "output_type": "execute_result"
    }
   ],
   "source": [
    "HD_optimal_train_LR_accu = HD_optimal_train_df.drop(['trial1_precision','trial2_precision','trial3_precision'],axis=1).loc[2]\n",
    "HD_optimal_train_LR_accu = pd.DataFrame({'Trial':HD_optimal_train_LR_accu.index, 'precision':HD_optimal_train_LR_accu.values}).iloc[1:]\n",
    "DRUG_optimal_train_LR_accu = DRUG_optimal_train_df.drop(['trial1_precision','trial2_precision','trial3_precision'],axis=1).loc[2]\n",
    "DRUG_optimal_train_LR_accu = pd.DataFrame({'Trial':DRUG_optimal_train_LR_accu.index, 'precision':DRUG_optimal_train_LR_accu.values}).iloc[1:]\n",
    "MUSH_optimal_train_LR_accu = MUSH_optimal_train_df.drop(['trial1_precision','trial2_precision','trial3_precision'],axis=1).loc[2]\n",
    "MUSH_optimal_train_LR_accu = pd.DataFrame({'Trial':MUSH_optimal_train_LR_accu.index, 'precision':MUSH_optimal_train_LR_accu.values}).iloc[1:]\n",
    "all_optimal_train_LR_accu = pd.concat([HD_optimal_train_LR_accu, DRUG_optimal_train_LR_accu, MUSH_optimal_train_LR_accu],ignore_index=True)\n",
    "all_optimal_train_LR_accu = all_optimal_train_LR_accu.as_matrix(columns=all_optimal_train_LR_accu.columns[1:])\n",
    "all_optimal_train_LR_accu"
   ]
  },
  {
   "cell_type": "code",
   "execution_count": 29,
   "metadata": {},
   "outputs": [
    {
     "data": {
      "text/plain": [
       "array([[0.8129029999999999],\n",
       "       [0.8402780000000001],\n",
       "       [0.79085],\n",
       "       [0.8553149999999999],\n",
       "       [0.8601530000000001],\n",
       "       [0.8551860000000001],\n",
       "       [0.961367],\n",
       "       [0.96829],\n",
       "       [0.9630799999999999]], dtype=object)"
      ]
     },
     "execution_count": 29,
     "metadata": {},
     "output_type": "execute_result"
    }
   ],
   "source": [
    "HD_optimal_train_LR_prec = HD_optimal_train_df.drop(['trial1_accuracy','trial2_accuracy','trial3_accuracy'],axis=1).loc[2]\n",
    "HD_optimal_train_LR_prec = pd.DataFrame({'Trial':HD_optimal_train_LR_prec.index, 'accuracy':HD_optimal_train_LR_prec.values}).iloc[1:]\n",
    "DRUG_optimal_train_LR_prec = DRUG_optimal_train_df.drop(['trial1_accuracy','trial2_accuracy','trial3_accuracy'],axis=1).loc[2]\n",
    "DRUG_optimal_train_LR_prec = pd.DataFrame({'Trial':DRUG_optimal_train_LR_prec.index, 'accuracy':DRUG_optimal_train_LR_prec.values}).iloc[1:]\n",
    "MUSH_optimal_train_LR_prec = MUSH_optimal_train_df.drop(['trial1_accuracy','trial2_accuracy','trial3_accuracy'],axis=1).loc[2]\n",
    "MUSH_optimal_train_LR_prec = pd.DataFrame({'Trial':MUSH_optimal_train_LR_prec.index, 'accuracy':MUSH_optimal_train_LR_prec.values}).iloc[1:]\n",
    "all_optimal_train_LR_prec = pd.concat([HD_optimal_train_LR_prec, DRUG_optimal_train_LR_prec, MUSH_optimal_train_LR_prec],ignore_index=True)\n",
    "all_optimal_train_LR_prec = all_optimal_train_LR_prec.as_matrix(columns=all_optimal_train_LR_prec.columns[1:])\n",
    "all_optimal_train_LR_prec"
   ]
  },
  {
   "cell_type": "markdown",
   "metadata": {},
   "source": [
    "### Extract DT accuracy and precision"
   ]
  },
  {
   "cell_type": "code",
   "execution_count": 30,
   "metadata": {},
   "outputs": [
    {
     "data": {
      "text/plain": [
       "array([[0.770492],\n",
       "       [0.7213109999999999],\n",
       "       [0.852459],\n",
       "       [0.774536],\n",
       "       [0.782493],\n",
       "       [0.763926],\n",
       "       [1.0],\n",
       "       [1.0],\n",
       "       [1.0]], dtype=object)"
      ]
     },
     "execution_count": 30,
     "metadata": {},
     "output_type": "execute_result"
    }
   ],
   "source": [
    "HD_DT_accu = HD_test_df.drop(['trial1_precision','trial2_precision','trial3_precision'],axis=1).loc[3]\n",
    "HD_DT_accu = pd.DataFrame({'Trial':HD_DT_accu.index, 'Accuracy':HD_DT_accu.values}).iloc[1:]\n",
    "DRUG_DT_accu = DRUG_test_df.drop(['trial1_precision','trial2_precision','trial3_precision'],axis=1).loc[3]\n",
    "DRUG_DT_accu = pd.DataFrame({'Trial':DRUG_DT_accu.index, 'Accuracy':DRUG_DT_accu.values}).iloc[1:]\n",
    "MUSH_DT_accu = MUSH_test_df.drop(['trial1_precision','trial2_precision','trial3_precision'],axis=1).loc[3]\n",
    "MUSH_DT_accu = pd.DataFrame({'Trial':MUSH_DT_accu.index, 'Accuracy':MUSH_DT_accu.values}).iloc[1:]\n",
    "all_DT_accu = pd.concat([HD_DT_accu, DRUG_DT_accu, MUSH_DT_accu], ignore_index=True)\n",
    "all_DT_accu = all_DT_accu.as_matrix(columns=all_DT_accu.columns[1:])\n",
    "all_DT_accu"
   ]
  },
  {
   "cell_type": "code",
   "execution_count": 31,
   "metadata": {},
   "outputs": [
    {
     "data": {
      "text/plain": [
       "array([[0.7540979999999999],\n",
       "       [0.704918],\n",
       "       [0.819672],\n",
       "       [0.786451343],\n",
       "       [0.692307692],\n",
       "       [0.705570292],\n",
       "       [1.0],\n",
       "       [1.0],\n",
       "       [0.9926149999999999]], dtype=object)"
      ]
     },
     "execution_count": 31,
     "metadata": {},
     "output_type": "execute_result"
    }
   ],
   "source": [
    "HD_optimal_test_DT_accu = HD_optimal_test_df.drop(['trial1_precision','trial2_precision','trial3_precision'],axis=1).loc[3]\n",
    "HD_optimal_test_DT_accu = pd.DataFrame({'Trial':HD_optimal_test_DT_accu.index, 'precision':HD_optimal_test_DT_accu.values}).iloc[1:]\n",
    "DRUG_optimal_test_DT_accu = DRUG_optimal_test_df.drop(['trial1_precision','trial2_precision','trial3_precision'],axis=1).loc[3]\n",
    "DRUG_optimal_test_DT_accu = pd.DataFrame({'Trial':DRUG_optimal_test_DT_accu.index, 'precision':DRUG_optimal_test_DT_accu.values}).iloc[1:]\n",
    "MUSH_optimal_test_DT_accu = MUSH_optimal_test_df.drop(['trial1_precision','trial2_precision','trial3_precision'],axis=1).loc[3]\n",
    "MUSH_optimal_test_DT_accu = pd.DataFrame({'Trial':MUSH_optimal_test_DT_accu.index, 'precision':MUSH_optimal_test_DT_accu.values}).iloc[1:]\n",
    "all_optimal_test_DT_accu = pd.concat([HD_optimal_test_DT_accu, DRUG_optimal_test_DT_accu, MUSH_optimal_test_DT_accu],ignore_index=True)\n",
    "all_optimal_test_DT_accu = all_optimal_test_DT_accu.as_matrix(columns=all_optimal_test_DT_accu.columns[1:])\n",
    "all_optimal_test_DT_accu "
   ]
  },
  {
   "cell_type": "code",
   "execution_count": 32,
   "metadata": {},
   "outputs": [
    {
     "data": {
      "text/plain": [
       "array([[0.758621],\n",
       "       [0.74359],\n",
       "       [0.8787879999999999],\n",
       "       [0.867769],\n",
       "       [0.823293],\n",
       "       [0.860656],\n",
       "       [1.0],\n",
       "       [1.0],\n",
       "       [1.0]], dtype=object)"
      ]
     },
     "execution_count": 32,
     "metadata": {},
     "output_type": "execute_result"
    }
   ],
   "source": [
    "HD_DT_prec = HD_test_df.drop(['trial1_accuracy','trial2_accuracy','trial3_accuracy'],axis=1).loc[3]\n",
    "HD_DT_prec = pd.DataFrame({'Trial':HD_DT_prec.index, 'precracy':HD_DT_prec.values}).iloc[1:]\n",
    "DRUG_DT_prec = DRUG_test_df.drop(['trial1_accuracy','trial2_accuracy','trial3_accuracy'],axis=1).loc[3]\n",
    "DRUG_DT_prec = pd.DataFrame({'Trial':DRUG_DT_prec.index, 'precracy':DRUG_DT_prec.values}).iloc[1:]\n",
    "MUSH_DT_prec = MUSH_test_df.drop(['trial1_accuracy','trial2_accuracy','trial3_accuracy'],axis=1).loc[3]\n",
    "MUSH_DT_prec = pd.DataFrame({'Trial':MUSH_DT_prec.index, 'precracy':MUSH_DT_prec.values}).iloc[1:]\n",
    "all_DT_prec = pd.concat([HD_DT_prec, DRUG_DT_prec, MUSH_DT_prec], ignore_index=True)\n",
    "all_DT_prec = all_DT_prec.as_matrix(columns=all_DT_prec.columns[1:])\n",
    "all_DT_prec"
   ]
  },
  {
   "cell_type": "code",
   "execution_count": 33,
   "metadata": {},
   "outputs": [
    {
     "data": {
      "text/plain": [
       "array([[0.705882],\n",
       "       [0.766667],\n",
       "       [0.8787879999999999],\n",
       "       [0.9285714290000001],\n",
       "       [0.904458599],\n",
       "       [0.947674419],\n",
       "       [1.0],\n",
       "       [1.0],\n",
       "       [1.0]], dtype=object)"
      ]
     },
     "execution_count": 33,
     "metadata": {},
     "output_type": "execute_result"
    }
   ],
   "source": [
    "HD_optimal_test_DT_prec = HD_optimal_test_df.drop(['trial1_accuracy','trial2_accuracy','trial3_accuracy'],axis=1).loc[3]\n",
    "HD_optimal_test_DT_prec = pd.DataFrame({'Trial':HD_optimal_test_DT_prec.index, 'accuracy':HD_optimal_test_DT_prec.values}).iloc[1:]\n",
    "DRUG_optimal_test_DT_prec = DRUG_optimal_test_df.drop(['trial1_accuracy','trial2_accuracy','trial3_accuracy'],axis=1).loc[3]\n",
    "DRUG_optimal_test_DT_prec = pd.DataFrame({'Trial':DRUG_optimal_test_DT_prec.index, 'accuracy':DRUG_optimal_test_DT_prec.values}).iloc[1:]\n",
    "MUSH_optimal_test_DT_prec = MUSH_optimal_test_df.drop(['trial1_accuracy','trial2_accuracy','trial3_accuracy'],axis=1).loc[3]\n",
    "MUSH_optimal_test_DT_prec = pd.DataFrame({'Trial':MUSH_optimal_test_DT_prec.index, 'accuracy':MUSH_optimal_test_DT_prec.values}).iloc[1:]\n",
    "all_optimal_test_DT_prec = pd.concat([HD_optimal_test_DT_prec, DRUG_optimal_test_DT_prec, MUSH_optimal_test_DT_prec],ignore_index=True)\n",
    "all_optimal_test_DT_prec = all_optimal_test_DT_prec.as_matrix(columns=all_optimal_test_DT_prec.columns[1:])\n",
    "all_optimal_test_DT_prec"
   ]
  },
  {
   "cell_type": "code",
   "execution_count": 34,
   "metadata": {},
   "outputs": [
    {
     "data": {
      "text/plain": [
       "array([[0.735544],\n",
       "       [0.8139460000000001],\n",
       "       [0.698469],\n",
       "       [0.786451],\n",
       "       [0.6936479999999999],\n",
       "       [0.6876770000000001],\n",
       "       [0.998308],\n",
       "       [1.0],\n",
       "       [0.995692]], dtype=object)"
      ]
     },
     "execution_count": 34,
     "metadata": {},
     "output_type": "execute_result"
    }
   ],
   "source": [
    "HD_optimal_train_DT_accu = HD_optimal_train_df.drop(['trial1_precision','trial2_precision','trial3_precision'],axis=1).loc[3]\n",
    "HD_optimal_train_DT_accu = pd.DataFrame({'Trial':HD_optimal_train_DT_accu.index, 'precision':HD_optimal_train_DT_accu.values}).iloc[1:]\n",
    "DRUG_optimal_train_DT_accu = DRUG_optimal_train_df.drop(['trial1_precision','trial2_precision','trial3_precision'],axis=1).loc[3]\n",
    "DRUG_optimal_train_DT_accu = pd.DataFrame({'Trial':DRUG_optimal_train_DT_accu.index, 'precision':DRUG_optimal_train_DT_accu.values}).iloc[1:]\n",
    "MUSH_optimal_train_DT_accu = MUSH_optimal_train_df.drop(['trial1_precision','trial2_precision','trial3_precision'],axis=1).loc[3]\n",
    "MUSH_optimal_train_DT_accu = pd.DataFrame({'Trial':MUSH_optimal_train_DT_accu.index, 'precision':MUSH_optimal_train_DT_accu.values}).iloc[1:]\n",
    "all_optimal_train_DT_accu = pd.concat([HD_optimal_train_DT_accu, DRUG_optimal_train_DT_accu, MUSH_optimal_train_DT_accu],ignore_index=True)\n",
    "all_optimal_train_DT_accu = all_optimal_train_DT_accu.as_matrix(columns=all_optimal_train_DT_accu.columns[1:])\n",
    "all_optimal_train_DT_accu "
   ]
  },
  {
   "cell_type": "code",
   "execution_count": 35,
   "metadata": {},
   "outputs": [
    {
     "data": {
      "text/plain": [
       "array([[0.7440479999999999],\n",
       "       [0.969925],\n",
       "       [0.8791950000000001],\n",
       "       [0.903418],\n",
       "       [0.909357],\n",
       "       [0.8983559999999999],\n",
       "       [1.0],\n",
       "       [1.0],\n",
       "       [1.0]], dtype=object)"
      ]
     },
     "execution_count": 35,
     "metadata": {},
     "output_type": "execute_result"
    }
   ],
   "source": [
    "HD_optimal_train_DT_prec = HD_optimal_train_df.drop(['trial1_accuracy','trial2_accuracy','trial3_accuracy'],axis=1).loc[3]\n",
    "HD_optimal_train_DT_prec = pd.DataFrame({'Trial':HD_optimal_train_DT_prec.index, 'accuracy':HD_optimal_train_DT_prec.values}).iloc[1:]\n",
    "DRUG_optimal_train_DT_prec = DRUG_optimal_train_df.drop(['trial1_accuracy','trial2_accuracy','trial3_accuracy'],axis=1).loc[3]\n",
    "DRUG_optimal_train_DT_prec = pd.DataFrame({'Trial':DRUG_optimal_train_DT_prec.index, 'accuracy':DRUG_optimal_train_DT_prec.values}).iloc[1:]\n",
    "MUSH_optimal_train_DT_prec = MUSH_optimal_train_df.drop(['trial1_accuracy','trial2_accuracy','trial3_accuracy'],axis=1).loc[3]\n",
    "MUSH_optimal_train_DT_prec = pd.DataFrame({'Trial':MUSH_optimal_train_DT_prec.index, 'accuracy':MUSH_optimal_train_DT_prec.values}).iloc[1:]\n",
    "all_optimal_train_DT_prec = pd.concat([HD_optimal_train_DT_prec, DRUG_optimal_train_DT_prec, MUSH_optimal_train_DT_prec],ignore_index=True)\n",
    "all_optimal_train_DT_prec = all_optimal_train_DT_prec.as_matrix(columns=all_optimal_train_DT_prec.columns[1:])\n",
    "all_optimal_train_DT_prec"
   ]
  },
  {
   "cell_type": "code",
   "execution_count": 37,
   "metadata": {},
   "outputs": [
    {
     "name": "stdout",
     "output_type": "stream",
     "text": [
      "Mean KNN Test Accuracy 0.8699346666666667\n",
      " \n",
      "Mean Optimal Train KNN Accuracy 0.8717034444444445\n",
      " \n",
      "Mean Optimal Test KNN Accuracy 0.8812115189999999\n",
      " \n",
      "Mean KNN Test Precision 0.8817522222222223\n",
      " \n",
      "Mean Optimal Train KNN Precision 0.9196852222222223\n",
      " \n",
      "Mean Optimal Test KNN Precision 0.9095123727777776\n",
      " \n",
      "Mean RF Test Accuracy 0.8739786666666666\n",
      " \n",
      "Mean RF Optimal Train Accuracy 0.8760395555555556\n",
      " \n",
      "Mean RF Optimal Test Accuracy 0.8766843328888889\n",
      " \n",
      "Mean RF Test Precision 0.9001775555555555\n",
      " \n",
      "Mean RF Optimal Train Precision 1.0\n",
      " \n",
      "Mean RF Optimal Test Precision 0.900201364888889\n",
      " \n",
      "Mean LR Test Accuracy 0.874576888888889\n",
      " \n",
      "Mean LR Optimal Train Accuracy 0.8650294444444445\n",
      " \n",
      "Mean LR Optimal Test Accuracy 0.8664961546666667\n",
      " \n",
      "Mean LR Test Precision 0.8846446666666666\n",
      " \n",
      "Mean LR Optimal Train Precision 0.8786024444444444\n",
      " \n",
      "Mean LR Optimal Test Precision 0.8887306030000001\n",
      " \n",
      "Mean DT Test Accuracy 0.8516907777777778\n",
      " \n",
      "Mean DT Optimal Train  Accuracy 0.8233038888888888\n",
      " \n",
      "Mean DT Optimal Test  Accuracy 0.8284035918888888\n",
      " \n",
      "Mean DT Test Precision 0.8814129999999999\n",
      " \n",
      "Mean DT Optimal Train Precision 0.9226998888888889\n",
      " \n",
      "Mean DT Optimal Test Precision 0.9035601607777779\n"
     ]
    }
   ],
   "source": [
    "print('Mean KNN Test Accuracy',all_knn_accu.mean())\n",
    "print(' ')\n",
    "print('Mean Optimal Train KNN Accuracy',all_optimal_train_knn_accu.mean())\n",
    "print(' ')\n",
    "print('Mean Optimal Test KNN Accuracy',all_optimal_test_knn_accu.mean())\n",
    "print(' ')\n",
    "print('Mean KNN Test Precision',all_knn_prec.mean())\n",
    "print(' ')\n",
    "print('Mean Optimal Train KNN Precision',all_optimal_train_knn_prec.mean())\n",
    "print(' ')\n",
    "print('Mean Optimal Test KNN Precision',all_optimal_test_knn_prec.mean())\n",
    "print(' ')\n",
    "print('Mean RF Test Accuracy',all_RF_accu.mean())\n",
    "print(' ')\n",
    "print('Mean RF Optimal Train Accuracy',all_optimal_train_RF_accu.mean())\n",
    "print(' ')\n",
    "print('Mean RF Optimal Test Accuracy',all_optimal_test_RF_accu.mean())\n",
    "print(' ')\n",
    "print('Mean RF Test Precision',all_RF_prec.mean())\n",
    "print(' ')\n",
    "print('Mean RF Optimal Train Precision',all_optimal_train_RF_prec.mean())\n",
    "print(' ')\n",
    "print('Mean RF Optimal Test Precision',all_optimal_test_RF_prec.mean())\n",
    "print(' ')\n",
    "print('Mean LR Test Accuracy',all_LR_accu.mean())\n",
    "print(' ')\n",
    "print('Mean LR Optimal Train Accuracy',all_optimal_train_LR_accu.mean())\n",
    "print(' ')\n",
    "print('Mean LR Optimal Test Accuracy',all_optimal_test_LR_accu.mean())\n",
    "print(' ')\n",
    "print('Mean LR Test Precision',all_LR_prec.mean())\n",
    "print(' ')\n",
    "print('Mean LR Optimal Train Precision',all_optimal_train_LR_prec.mean())\n",
    "print(' ')\n",
    "print('Mean LR Optimal Test Precision',all_optimal_test_LR_prec.mean())\n",
    "print(' ')\n",
    "print('Mean DT Test Accuracy',all_DT_accu.mean())\n",
    "print(' ')\n",
    "print('Mean DT Optimal Train  Accuracy',all_optimal_train_DT_accu.mean())\n",
    "print(' ')\n",
    "print('Mean DT Optimal Test  Accuracy',all_optimal_test_DT_accu.mean())\n",
    "print(' ')\n",
    "print('Mean DT Test Precision',all_DT_prec.mean())\n",
    "print(' ')\n",
    "print('Mean DT Optimal Train Precision',all_optimal_train_DT_prec.mean())\n",
    "print(' ')\n",
    "print('Mean DT Optimal Test Precision',all_optimal_test_DT_prec.mean())"
   ]
  },
  {
   "cell_type": "code",
   "execution_count": 38,
   "metadata": {},
   "outputs": [
    {
     "name": "stdout",
     "output_type": "stream",
     "text": [
      "std KNN Test Accuracy 0.09547330161882955\n",
      " \n",
      "std Optimal Train KNN Accuracy 0.09073656128731632\n",
      " \n",
      "std Optimal Test KNN Accuracy 0.09473562760062204\n",
      " \n",
      "std KNN Test Precision 0.09012299282496333\n",
      " \n",
      "std Optimal Train KNN Precision 0.07298294685256242\n",
      " \n",
      "std Optimal Test KNN Precision 0.0763226212290629\n",
      " \n",
      "std RF Test Accuracy 0.10081447836165863\n",
      " \n",
      "std RF Optimal Train Accuracy 0.08794758164208587\n",
      " \n",
      "std RF Optimal Test Accuracy 0.09909156603031198\n",
      " \n",
      "std RF Test Precision 0.0854325965764969\n",
      " \n",
      "std RF Optimal Train Precision 0.0\n",
      " \n",
      "std RF Optimal Test Precision 0.08155790534887626\n",
      " \n",
      "std LR Test Accuracy 0.07257254171508434\n",
      " \n",
      "std LR Optimal Train Accuracy 0.07081686724708569\n",
      " \n",
      "std LR Optimal Test Accuracy 0.07470571449698413\n",
      " \n",
      "std LR Test Precision 0.06407186458449086\n",
      " \n",
      "std LR Optimal Train Precision 0.064071986562184\n",
      " \n",
      "std LR Optimal Test Precision 0.059133125490068314\n",
      " \n",
      "std DT Test Accuracy 0.10955639984427888\n",
      " \n",
      "std DT Optimal Train  Accuracy 0.12974426599999148\n",
      " \n",
      "std DT Optimal Test  Accuracy 0.12564164158834212\n",
      " \n",
      "std DT Test Precision 0.09443605779691475\n",
      " \n",
      "std DT Optimal Train Precision 0.07825013614676755\n",
      " \n",
      "std DT Optimal Test Precision 0.09938948018402693\n"
     ]
    }
   ],
   "source": [
    "print('std KNN Test Accuracy',all_knn_accu.std())\n",
    "print(' ')\n",
    "print('std Optimal Train KNN Accuracy',all_optimal_train_knn_accu.std())\n",
    "print(' ')\n",
    "print('std Optimal Test KNN Accuracy',all_optimal_test_knn_accu.std())\n",
    "print(' ')\n",
    "print('std KNN Test Precision',all_knn_prec.std())\n",
    "print(' ')\n",
    "print('std Optimal Train KNN Precision',all_optimal_train_knn_prec.std())\n",
    "print(' ')\n",
    "print('std Optimal Test KNN Precision',all_optimal_test_knn_prec.std())\n",
    "print(' ')\n",
    "print('std RF Test Accuracy',all_RF_accu.std())\n",
    "print(' ')\n",
    "print('std RF Optimal Train Accuracy',all_optimal_train_RF_accu.std())\n",
    "print(' ')\n",
    "print('std RF Optimal Test Accuracy',all_optimal_test_RF_accu.std())\n",
    "print(' ')\n",
    "print('std RF Test Precision',all_RF_prec.std())\n",
    "print(' ')\n",
    "print('std RF Optimal Train Precision',all_optimal_train_RF_prec.std())\n",
    "print(' ')\n",
    "print('std RF Optimal Test Precision',all_optimal_test_RF_prec.std())\n",
    "print(' ')\n",
    "print('std LR Test Accuracy',all_LR_accu.std())\n",
    "print(' ')\n",
    "print('std LR Optimal Train Accuracy',all_optimal_train_LR_accu.std())\n",
    "print(' ')\n",
    "print('std LR Optimal Test Accuracy',all_optimal_test_LR_accu.std())\n",
    "print(' ')\n",
    "print('std LR Test Precision',all_LR_prec.std())\n",
    "print(' ')\n",
    "print('std LR Optimal Train Precision',all_optimal_train_LR_prec.std())\n",
    "print(' ')\n",
    "print('std LR Optimal Test Precision',all_optimal_test_LR_prec.std())\n",
    "print(' ')\n",
    "print('std DT Test Accuracy',all_DT_accu.std())\n",
    "print(' ')\n",
    "print('std DT Optimal Train  Accuracy',all_optimal_train_DT_accu.std())\n",
    "print(' ')\n",
    "print('std DT Optimal Test  Accuracy',all_optimal_test_DT_accu.std())\n",
    "print(' ')\n",
    "print('std DT Test Precision',all_DT_prec.std())\n",
    "print(' ')\n",
    "print('std DT Optimal Train Precision',all_optimal_train_DT_prec.std())\n",
    "print(' ')\n",
    "print('std DT Optimal Test Precision',all_optimal_test_DT_prec.std())"
   ]
  },
  {
   "cell_type": "markdown",
   "metadata": {},
   "source": [
    "# T-Tests"
   ]
  },
  {
   "cell_type": "code",
   "execution_count": 73,
   "metadata": {},
   "outputs": [],
   "source": [
    "from scipy import stats\n",
    "from numpy import std, mean, sqrt"
   ]
  },
  {
   "cell_type": "code",
   "execution_count": 67,
   "metadata": {},
   "outputs": [],
   "source": [
    "#correct if the population S.D. is expected to be equal for the two groups.\n",
    "def cohen_d(x,y):\n",
    "    nx = len(x)\n",
    "    ny = len(y)\n",
    "    dof = nx + ny - 2\n",
    "    return (mean(x) - mean(y)) / sqrt(((nx-1)*std(x, ddof=1) ** 2 + (ny-1)*std(y, ddof=1) ** 2) / dof)"
   ]
  },
  {
   "cell_type": "markdown",
   "metadata": {},
   "source": [
    "## 3 Trials x 3 Datasets"
   ]
  },
  {
   "cell_type": "markdown",
   "metadata": {},
   "source": [
    "### KNN vs RF: Accuracy"
   ]
  },
  {
   "cell_type": "code",
   "execution_count": 80,
   "metadata": {},
   "outputs": [
    {
     "data": {
      "text/plain": [
       "Ttest_indResult(statistic=-0.08237912049829567, pvalue=0.9353700164759006)"
      ]
     },
     "execution_count": 80,
     "metadata": {},
     "output_type": "execute_result"
    }
   ],
   "source": [
    "KNN_RF_accu = stats.ttest_ind(all_knn_accu, all_RF_accu, axis=None, equal_var=False)\n",
    "KNN_RF_accu"
   ]
  },
  {
   "cell_type": "code",
   "execution_count": 72,
   "metadata": {},
   "outputs": [
    {
     "name": "stdout",
     "output_type": "stream",
     "text": [
      "cohens dvalue= 0.03883388982168574\n"
     ]
    }
   ],
   "source": [
    "print('cohens dvalue=',cohen_d(all_RF_accu, all_knn_accu))"
   ]
  },
  {
   "cell_type": "markdown",
   "metadata": {},
   "source": [
    "### KNN vs RF: Precision"
   ]
  },
  {
   "cell_type": "code",
   "execution_count": 49,
   "metadata": {},
   "outputs": [
    {
     "data": {
      "text/plain": [
       "Ttest_indResult(statistic=-0.41966788328071103, pvalue=0.6803247491130351)"
      ]
     },
     "execution_count": 49,
     "metadata": {},
     "output_type": "execute_result"
    }
   ],
   "source": [
    "KNN_RF_prec = stats.ttest_ind(all_knn_prec, all_RF_prec, axis=None, equal_var=False)\n",
    "KNN_RF_prec"
   ]
  },
  {
   "cell_type": "code",
   "execution_count": 74,
   "metadata": {},
   "outputs": [
    {
     "name": "stdout",
     "output_type": "stream",
     "text": [
      "cohens dvalue= 0.1978333374093302\n"
     ]
    }
   ],
   "source": [
    "print('cohens dvalue=',cohen_d(all_RF_prec, all_knn_prec))"
   ]
  },
  {
   "cell_type": "markdown",
   "metadata": {},
   "source": [
    "### KNN vs LR: Accuracy"
   ]
  },
  {
   "cell_type": "code",
   "execution_count": 50,
   "metadata": {},
   "outputs": [
    {
     "data": {
      "text/plain": [
       "Ttest_indResult(statistic=-0.10948696264796162, pvalue=0.9142742345641675)"
      ]
     },
     "execution_count": 50,
     "metadata": {},
     "output_type": "execute_result"
    }
   ],
   "source": [
    "KNN_LR_accu = stats.ttest_ind(all_knn_accu, all_LR_accu, axis=None, equal_var=False)\n",
    "KNN_LR_accu"
   ]
  },
  {
   "cell_type": "code",
   "execution_count": 75,
   "metadata": {},
   "outputs": [
    {
     "name": "stdout",
     "output_type": "stream",
     "text": [
      "cohens dvalue= 0.05161264915992793\n"
     ]
    }
   ],
   "source": [
    "print('cohens dvalue=',cohen_d(all_LR_accu, all_knn_accu))"
   ]
  },
  {
   "cell_type": "markdown",
   "metadata": {},
   "source": [
    "### KNN vs LR: Precision"
   ]
  },
  {
   "cell_type": "code",
   "execution_count": 51,
   "metadata": {},
   "outputs": [
    {
     "data": {
      "text/plain": [
       "Ttest_indResult(statistic=-0.0739850056992834, pvalue=0.942037368252181)"
      ]
     },
     "execution_count": 51,
     "metadata": {},
     "output_type": "execute_result"
    }
   ],
   "source": [
    "KNN_LR_prec = stats.ttest_ind(all_knn_prec, all_LR_prec, axis=None, equal_var=False)\n",
    "KNN_LR_prec"
   ]
  },
  {
   "cell_type": "code",
   "execution_count": 81,
   "metadata": {},
   "outputs": [
    {
     "name": "stdout",
     "output_type": "stream",
     "text": [
      "cohens dvalue= 0.03487686615739244\n"
     ]
    }
   ],
   "source": [
    "print('cohens dvalue=',cohen_d(all_LR_prec, all_knn_prec))"
   ]
  },
  {
   "cell_type": "markdown",
   "metadata": {},
   "source": [
    "### KNN vs DT: Accuracy"
   ]
  },
  {
   "cell_type": "code",
   "execution_count": 52,
   "metadata": {},
   "outputs": [
    {
     "data": {
      "text/plain": [
       "Ttest_indResult(statistic=0.35509007001735093, pvalue=0.7272454847876506)"
      ]
     },
     "execution_count": 52,
     "metadata": {},
     "output_type": "execute_result"
    }
   ],
   "source": [
    "KNN_DT_accu = stats.ttest_ind(all_knn_accu, all_DT_accu, axis=None, equal_var=False)\n",
    "KNN_DT_accu"
   ]
  },
  {
   "cell_type": "code",
   "execution_count": 83,
   "metadata": {},
   "outputs": [
    {
     "name": "stdout",
     "output_type": "stream",
     "text": [
      "cohens dvalue= 0.16739106429418318\n"
     ]
    }
   ],
   "source": [
    "print('cohens dvalue=',cohen_d(all_knn_accu, all_DT_accu))"
   ]
  },
  {
   "cell_type": "markdown",
   "metadata": {},
   "source": [
    "### KNN vs DT: Precision"
   ]
  },
  {
   "cell_type": "code",
   "execution_count": 53,
   "metadata": {},
   "outputs": [
    {
     "data": {
      "text/plain": [
       "Ttest_indResult(statistic=0.007350051447786862, pvalue=0.9942266212111703)"
      ]
     },
     "execution_count": 53,
     "metadata": {},
     "output_type": "execute_result"
    }
   ],
   "source": [
    "KNN_DT_prec = stats.ttest_ind(all_knn_prec, all_DT_prec, axis=None, equal_var=False)\n",
    "KNN_DT_prec"
   ]
  },
  {
   "cell_type": "code",
   "execution_count": 84,
   "metadata": {},
   "outputs": [
    {
     "name": "stdout",
     "output_type": "stream",
     "text": [
      "cohens dvalue= 0.0034648474805333944\n"
     ]
    }
   ],
   "source": [
    "print('cohens dvalue=',cohen_d(all_knn_prec, all_DT_prec))"
   ]
  },
  {
   "cell_type": "markdown",
   "metadata": {},
   "source": [
    "### RF vs DT: Accuracy"
   ]
  },
  {
   "cell_type": "code",
   "execution_count": 54,
   "metadata": {},
   "outputs": [
    {
     "data": {
      "text/plain": [
       "Ttest_indResult(statistic=0.4234173584991528, pvalue=0.6776660331399336)"
      ]
     },
     "execution_count": 54,
     "metadata": {},
     "output_type": "execute_result"
    }
   ],
   "source": [
    "RF_DT_accu = stats.ttest_ind(all_RF_accu, all_DT_accu, axis=None, equal_var=False)\n",
    "RF_DT_accu"
   ]
  },
  {
   "cell_type": "code",
   "execution_count": 85,
   "metadata": {},
   "outputs": [
    {
     "name": "stdout",
     "output_type": "stream",
     "text": [
      "cohens dvalue= 0.1996008569778976\n"
     ]
    }
   ],
   "source": [
    "print('cohens dvalue=',cohen_d(all_RF_accu, all_DT_accu))"
   ]
  },
  {
   "cell_type": "markdown",
   "metadata": {},
   "source": [
    "### RF vs DT: Precision"
   ]
  },
  {
   "cell_type": "code",
   "execution_count": 55,
   "metadata": {},
   "outputs": [
    {
     "data": {
      "text/plain": [
       "Ttest_indResult(statistic=0.41677282060327353, pvalue=0.6824370467864864)"
      ]
     },
     "execution_count": 55,
     "metadata": {},
     "output_type": "execute_result"
    }
   ],
   "source": [
    "RF_DT_prec = stats.ttest_ind(all_RF_prec, all_DT_prec, axis=None, equal_var=False)\n",
    "RF_DT_prec"
   ]
  },
  {
   "cell_type": "code",
   "execution_count": 86,
   "metadata": {},
   "outputs": [
    {
     "name": "stdout",
     "output_type": "stream",
     "text": [
      "cohens dvalue= 0.19646859177521278\n"
     ]
    }
   ],
   "source": [
    "print('cohens dvalue=',cohen_d(all_RF_prec, all_DT_prec))"
   ]
  },
  {
   "cell_type": "markdown",
   "metadata": {},
   "source": [
    "### LR vs DT: Accuracy"
   ]
  },
  {
   "cell_type": "code",
   "execution_count": 64,
   "metadata": {},
   "outputs": [
    {
     "data": {
      "text/plain": [
       "Ttest_indResult(statistic=0.49258211683174746, pvalue=0.6300042295775338)"
      ]
     },
     "execution_count": 64,
     "metadata": {},
     "output_type": "execute_result"
    }
   ],
   "source": [
    "LR_DT_accu = stats.ttest_ind(all_LR_accu, all_DT_accu, axis=None, equal_var=False)\n",
    "LR_DT_accu"
   ]
  },
  {
   "cell_type": "code",
   "execution_count": 87,
   "metadata": {},
   "outputs": [
    {
     "name": "stdout",
     "output_type": "stream",
     "text": [
      "cohens dvalue= 0.2322054367353019\n"
     ]
    }
   ],
   "source": [
    "print('cohens dvalue=',cohen_d(all_LR_accu, all_DT_accu))"
   ]
  },
  {
   "cell_type": "markdown",
   "metadata": {},
   "source": [
    "### LR vs DT: Precision"
   ]
  },
  {
   "cell_type": "code",
   "execution_count": 57,
   "metadata": {},
   "outputs": [
    {
     "data": {
      "text/plain": [
       "Ttest_indResult(statistic=0.08009581321712511, pvalue=0.937288580439398)"
      ]
     },
     "execution_count": 57,
     "metadata": {},
     "output_type": "execute_result"
    }
   ],
   "source": [
    "LR_DT_prec = stats.ttest_ind(all_LR_prec, all_DT_prec, axis=None, equal_var=False, nan_policy='propagate')\n",
    "LR_DT_prec"
   ]
  },
  {
   "cell_type": "code",
   "execution_count": 90,
   "metadata": {},
   "outputs": [
    {
     "name": "stdout",
     "output_type": "stream",
     "text": [
      "cohens dvalue= 0.03775752844698684\n"
     ]
    }
   ],
   "source": [
    "print('cohens dvalue=',cohen_d(all_LR_prec, all_DT_prec))"
   ]
  },
  {
   "cell_type": "markdown",
   "metadata": {},
   "source": [
    "### LR vs RF: Accuracy"
   ]
  },
  {
   "cell_type": "code",
   "execution_count": 58,
   "metadata": {},
   "outputs": [
    {
     "data": {
      "text/plain": [
       "Ttest_indResult(statistic=0.013621341710561468, pvalue=0.9893172712345649)"
      ]
     },
     "execution_count": 58,
     "metadata": {},
     "output_type": "execute_result"
    }
   ],
   "source": [
    "LR_RF_accu = stats.ttest_ind(all_LR_accu, all_RF_accu, axis=None, equal_var=False, nan_policy='propagate')\n",
    "LR_RF_accu"
   ]
  },
  {
   "cell_type": "code",
   "execution_count": 91,
   "metadata": {},
   "outputs": [
    {
     "name": "stdout",
     "output_type": "stream",
     "text": [
      "cohens dvalue= 0.006421162061598121\n"
     ]
    }
   ],
   "source": [
    "print('cohens dvalue=',cohen_d(all_LR_accu, all_RF_accu))"
   ]
  },
  {
   "cell_type": "markdown",
   "metadata": {},
   "source": [
    "### LR vs RF: Precision"
   ]
  },
  {
   "cell_type": "code",
   "execution_count": 59,
   "metadata": {},
   "outputs": [
    {
     "data": {
      "text/plain": [
       "Ttest_indResult(statistic=-0.41140532836191834, pvalue=0.686656781861832)"
      ]
     },
     "execution_count": 59,
     "metadata": {},
     "output_type": "execute_result"
    }
   ],
   "source": [
    "LR_RF_prec = stats.ttest_ind(all_LR_prec, all_RF_prec, axis=None, equal_var=False, nan_policy='propagate')\n",
    "LR_RF_prec"
   ]
  },
  {
   "cell_type": "code",
   "execution_count": 93,
   "metadata": {},
   "outputs": [
    {
     "name": "stdout",
     "output_type": "stream",
     "text": [
      "cohens dvalue= 0.19393833166732719\n"
     ]
    }
   ],
   "source": [
    "print('cohens dvalue=',cohen_d(all_RF_prec, all_LR_prec))"
   ]
  },
  {
   "cell_type": "code",
   "execution_count": null,
   "metadata": {},
   "outputs": [],
   "source": []
  }
 ],
 "metadata": {
  "kernelspec": {
   "display_name": "Python 3",
   "language": "python",
   "name": "python3"
  },
  "language_info": {
   "codemirror_mode": {
    "name": "ipython",
    "version": 3
   },
   "file_extension": ".py",
   "mimetype": "text/x-python",
   "name": "python",
   "nbconvert_exporter": "python",
   "pygments_lexer": "ipython3",
   "version": "3.7.4"
  }
 },
 "nbformat": 4,
 "nbformat_minor": 2
}
